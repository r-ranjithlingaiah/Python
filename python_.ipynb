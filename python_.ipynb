{
  "cells": [
    {
      "cell_type": "markdown",
      "metadata": {
        "id": "view-in-github",
        "colab_type": "text"
      },
      "source": [
        "<a href=\"https://colab.research.google.com/github/r-ranjithlingaiah/Python/blob/main/python_.ipynb\" target=\"_parent\"><img src=\"https://colab.research.google.com/assets/colab-badge.svg\" alt=\"Open In Colab\"/></a>"
      ]
    },
    {
      "cell_type": "code",
      "execution_count": null,
      "metadata": {
        "id": "0TD3obNDsNKd",
        "colab": {
          "base_uri": "https://localhost:8080/",
          "height": 106
        },
        "outputId": "c6c4329d-80d6-480f-d18c-22b1601bfbc1"
      },
      "outputs": [
        {
          "output_type": "error",
          "ename": "SyntaxError",
          "evalue": "invalid syntax (<ipython-input-1-68b375d11caa>, line 1)",
          "traceback": [
            "\u001b[0;36m  File \u001b[0;32m\"<ipython-input-1-68b375d11caa>\"\u001b[0;36m, line \u001b[0;32m1\u001b[0m\n\u001b[0;31m    -+# what are flowcharts?\u001b[0m\n\u001b[0m      ^\u001b[0m\n\u001b[0;31mSyntaxError\u001b[0m\u001b[0;31m:\u001b[0m invalid syntax\n"
          ]
        }
      ],
      "source": [
        "-+# what are flowcharts?\n",
        "# flolowcharts is a diagrammatic representation of sequence of loghical steps of a program.\n",
        "# symbols---> flowcharts use simple geometric shapes and arrows for processes and data flow.\n",
        "\n",
        "# My Approach for getting idea\n",
        " #input-> process-> Output Stategy\n",
        "\n",
        "\n",
        "# Algorithams\n",
        "# Algoritham is a step-by-step process , which defines a set of instructions to be executed in a certain order to get desied output.\n",
        "\n",
        "# Sun of 2 digits:\n",
        "\n",
        "# step 1 - START\n",
        "# step 2 - declare three integers a,b,c\n",
        "# step 3 - define values of a & b\n",
        "# step 4 - sum calculation of a & b\n",
        "# step 5 - store output of step 4 to c\n",
        "# step 6 - print c\n",
        "# step 7 - Stop\n",
        "\n",
        "# Sum of 2 digits Explaination\n",
        "\n",
        "# Pseudocode :-\n",
        "# ---> A way of expressing an algoritham with out conforming to specific syntax rules.\n",
        "#---> An informal high-level representation of the actual code\n",
        "# Example:--\n",
        "#set i to 0\n",
        "#for each i from 0 to 9\n",
        "#  if i is odd\n",
        "#print iset\n",
        "#end for loop\n",
        "\n",
        "# Time & Space Complexity\n",
        "# Time Complexity:\n",
        "#The time complexity of an  algorithm quantifies the amount oftime taken by any algorithm to run as a function of the length of the input.\n",
        "\n",
        "# Space Complexity:\n",
        "# Problem - solving using computer requires memory to hold temporay data or final result while the program is in execution . the amount of memory required by the algorithm to solve.\n",
        "\n",
        "# Module - 3\n",
        "# python introduction\n",
        "\n",
        "#1. Keywords\n",
        "#2. Identifiers\n",
        "#3. Variables, constants, Literals\n",
        "#4. Datatypes and Types conversions\n",
        "#5. operators\n",
        "#6. comments\n",
        "\n",
        "\n",
        "# 1.keywords\n",
        "# keywords are prfedefined, reserved word used in python programing.\n",
        "# we connot use a keyword as a variable name , function name , or any other Identifier.\n",
        "\n",
        "# List of key words\n",
        "# None, and, as, assert, break, continue, def, del, except, for, from, global, in lambda, nonlocal, or,raise,try, while, yield,false, true, async, await, class, elif, alse,, finally, if, else, finally,import, is not\n",
        "\n",
        "# identifiers\n",
        "# identifiers are the name given to variables, classes, methods, and etc....\n"
      ]
    },
    {
      "cell_type": "code",
      "execution_count": null,
      "metadata": {
        "id": "uMMJo1ygsjlN"
      },
      "outputs": [],
      "source": [
        "# Varuable identifiers\n",
        "#age = 25\n",
        "#name = \"John\"\n",
        "#count = 0\n",
        "#total_price = 100.50\n",
        "# is_student = True"
      ]
    },
    {
      "cell_type": "code",
      "execution_count": null,
      "metadata": {
        "id": "kn66RDz3tYsV"
      },
      "outputs": [],
      "source": [
        "# Rulse\n",
        "\n",
        "\n",
        "# Stat with a Letter or Underscores\n",
        "# Followed by Letters, Digits, or Underscores\n",
        "# Avoid starting with a Digit\n",
        "# No speci characters (!, @, $,%,&,etc...)\n",
        "#Case - sensitive (eg: age, Age and AGE)\n",
        "#Avoid using keywords"
      ]
    },
    {
      "cell_type": "code",
      "execution_count": null,
      "metadata": {
        "colab": {
          "base_uri": "https://localhost:8080/",
          "height": 36
        },
        "id": "alOUF7qox_JJ",
        "outputId": "0ea52025-1834-4ea4-a664-2b95cded6d5b"
      },
      "outputs": [
        {
          "data": {
            "application/vnd.google.colaboratory.intrinsic+json": {
              "type": "string"
            },
            "text/plain": [
              "'hello'"
            ]
          },
          "execution_count": 4,
          "metadata": {},
          "output_type": "execute_result"
        }
      ],
      "source": [
        "# Text Data Type\n",
        "# string\n",
        "#str reptesent string of charecters, enclosed in single,dounle,or triple quotes.\n",
        "# e.g:\n",
        "'hello'\n",
        "\"hello\"\n",
        "\"\"\"hello\"\"\""
      ]
    },
    {
      "cell_type": "code",
      "execution_count": null,
      "metadata": {
        "id": "YVxOs4ufytCE"
      },
      "outputs": [],
      "source": [
        "# Numaric data types\n",
        "\n",
        "# int\n",
        "#Represents integer value\n",
        "# eg: 1, -10, 100\n",
        "\n",
        "# flot\n",
        "# Represents floting point or decimal value\n",
        "# eg: 3.14,-2.5\n",
        "\n",
        "# comple\n",
        "# comlpex values\n",
        "# eg: 3.14j, 1-2i\n"
      ]
    },
    {
      "cell_type": "code",
      "execution_count": null,
      "metadata": {
        "id": "VBnCe-f70l69"
      },
      "outputs": [],
      "source": [
        "# SEQUENCE DATA TYPE:\n",
        "\n",
        "# TUPLE:\n",
        "\n",
        "# ordered\n",
        "# immutable\n",
        "# separated by commas\n",
        "# enclosed in parentheses\n",
        "# eg: (1,2,3)\n",
        "\n",
        "# LIST:\n",
        "\n",
        "# ordered\n",
        "# immutable\n",
        "# separated by commas\n",
        "# enclosed in squarear brackets\n",
        "# eg: (1,2,3)\n",
        "\n",
        "\n"
      ]
    },
    {
      "cell_type": "code",
      "execution_count": null,
      "metadata": {
        "id": "FPiwpj2716qY"
      },
      "outputs": [],
      "source": [
        "# MAPING DATA TYPES:\n",
        "# dict\n",
        "# represents unorder collections of key-value pairs, enclosed in curly braces\n",
        "# eg: {'name':'John','age':30}..."
      ]
    },
    {
      "cell_type": "code",
      "execution_count": null,
      "metadata": {
        "id": "BB7VsFDc23A-"
      },
      "outputs": [],
      "source": [
        "# SET DATA TYPE :\n",
        "# set\n",
        "# represent unordered collections of uniquse elements, enclosed in curly braces\n",
        "# (eg:{1,2.3})...\n"
      ]
    },
    {
      "cell_type": "code",
      "execution_count": null,
      "metadata": {
        "id": "SgTxDXFM27_Q"
      },
      "outputs": [],
      "source": [
        "# BOOLEAN DATA TYPES\n",
        "\n",
        "#bool\n",
        "#bool represents boolean values, which can be either True or False . Often used for logical operations and conttol flow."
      ]
    },
    {
      "cell_type": "code",
      "execution_count": null,
      "metadata": {
        "id": "WGIasoug4mL7"
      },
      "outputs": [],
      "source": [
        "# NONE DATA Type:\n",
        "\n",
        "#none\n",
        "# Represents a spacial object that indicates the absence of value or a \"null\" value.\n"
      ]
    },
    {
      "cell_type": "code",
      "execution_count": null,
      "metadata": {
        "id": "aE8EBRZ563NA"
      },
      "outputs": [],
      "source": [
        "# TYPE CONVERSION\n",
        "\n",
        " # in programming, type conversion is the process of converting data of one type to another.\n",
        " # For eg: converting int data to str.\n"
      ]
    },
    {
      "cell_type": "code",
      "execution_count": null,
      "metadata": {
        "colab": {
          "base_uri": "https://localhost:8080/"
        },
        "id": "UafJ903oFXdd",
        "outputId": "3122110e-81e0-4097-9a73-268f11d69e94"
      },
      "outputs": [
        {
          "name": "stdout",
          "output_type": "stream",
          "text": [
            "thos is my first program hello world 10\n"
          ]
        }
      ],
      "source": [
        "print(\"thos is my first program hello world\",5+5)"
      ]
    },
    {
      "cell_type": "code",
      "execution_count": null,
      "metadata": {
        "colab": {
          "base_uri": "https://localhost:8080/"
        },
        "id": "5VZaawnsGXbB",
        "outputId": "0e27d27e-f217-4107-ec05-f1796c92d6bf"
      },
      "outputs": [
        {
          "name": "stdout",
          "output_type": "stream",
          "text": [
            "<class 'int'>\n"
          ]
        }
      ],
      "source": [
        "a = 100\n",
        "print(type(100))"
      ]
    },
    {
      "cell_type": "code",
      "execution_count": null,
      "metadata": {
        "colab": {
          "base_uri": "https://localhost:8080/"
        },
        "id": "oL_JkOCPG9EU",
        "outputId": "7c8ce81b-cdf1-42b6-e8ad-bf7169a2e220"
      },
      "outputs": [
        {
          "name": "stdout",
          "output_type": "stream",
          "text": [
            "<class 'int'>\n",
            "<class 'float'>\n",
            "101.5\n",
            "<class 'float'>\n"
          ]
        }
      ],
      "source": [
        "a = 100\n",
        "b = 1.5\n",
        "c = a+b\n",
        "print(type(a))\n",
        "print(type(b))\n",
        "print (c)\n",
        "print(type(c))"
      ]
    },
    {
      "cell_type": "code",
      "execution_count": null,
      "metadata": {
        "id": "MSoBZR7tI-Xp"
      },
      "outputs": [],
      "source": [
        "# Type of Conversion\n",
        "# 1. implicit type conversion --> python automically convert one data type to another .\n",
        "# 2. Expticit type conversion--> User convert the data type an object to requiregd data type.\n"
      ]
    },
    {
      "cell_type": "code",
      "execution_count": null,
      "metadata": {
        "colab": {
          "base_uri": "https://localhost:8080/"
        },
        "id": "m2pw9qVRKfX0",
        "outputId": "0a104db4-01e7-4792-d7b2-7df7048f38e6"
      },
      "outputs": [
        {
          "name": "stdout",
          "output_type": "stream",
          "text": [
            "<class 'float'>\n",
            "100.0\n"
          ]
        }
      ],
      "source": [
        "a = 100\n",
        "a = float(a)\n",
        "print(type(a))\n",
        "print(a)"
      ]
    },
    {
      "cell_type": "code",
      "execution_count": null,
      "metadata": {
        "id": "sZRkXyPsLBr9"
      },
      "outputs": [],
      "source": [
        "# Built - in type conversion functions\n",
        "\n",
        "# int (): Converting to integer.\n",
        "# flot(): Converts to a floating - pouint number.\n",
        "# str(): Converts to a string.\n",
        "# bool(): Converts to a list.\n",
        "# tuple(): Converrt to a tuple.\n",
        "# Set(): Convert to a set.\n",
        "# dict(): converts to a dictionaly"
      ]
    },
    {
      "cell_type": "code",
      "execution_count": null,
      "metadata": {
        "colab": {
          "base_uri": "https://localhost:8080/"
        },
        "id": "poI8LVFhND0v",
        "outputId": "1457bf88-8b36-4940-8451-d8f92f6f84b1"
      },
      "outputs": [
        {
          "name": "stdout",
          "output_type": "stream",
          "text": [
            "7.0\n",
            "<class 'float'>\n"
          ]
        }
      ],
      "source": [
        "# Hnds on ExAamples\n",
        "\n",
        "\n",
        "\n",
        "\n",
        "num =5 + 2.0\n",
        "print(num)\n",
        "print(type(num))"
      ]
    },
    {
      "cell_type": "code",
      "execution_count": null,
      "metadata": {
        "colab": {
          "base_uri": "https://localhost:8080/"
        },
        "id": "-yY4aPXfNmjW",
        "outputId": "b7519a7f-d1df-4278-e904-e018b65d9a6d"
      },
      "outputs": [
        {
          "name": "stdout",
          "output_type": "stream",
          "text": [
            "5\n"
          ]
        }
      ],
      "source": [
        "# type casting of int\n",
        "num_int = int(5.7)\n",
        "print(num_int)"
      ]
    },
    {
      "cell_type": "code",
      "execution_count": null,
      "metadata": {
        "colab": {
          "base_uri": "https://localhost:8080/"
        },
        "id": "eE8moCbmOAju",
        "outputId": "2b384e50-9e1f-485d-955d-e68497832469"
      },
      "outputs": [
        {
          "name": "stdout",
          "output_type": "stream",
          "text": [
            "3.14\n"
          ]
        }
      ],
      "source": [
        "# Typecasting to flat\n",
        "num_float = float(\"3.14\")\n",
        "print(num_float)"
      ]
    },
    {
      "cell_type": "code",
      "execution_count": null,
      "metadata": {
        "colab": {
          "base_uri": "https://localhost:8080/"
        },
        "id": "x3P7_wVzOlwq",
        "outputId": "6864fdf9-0296-4639-c3d8-378914af680b"
      },
      "outputs": [
        {
          "name": "stdout",
          "output_type": "stream",
          "text": [
            "42\n"
          ]
        }
      ],
      "source": [
        "# typecasting of string\n",
        "message = str(42)\n",
        "print(message)"
      ]
    },
    {
      "cell_type": "code",
      "execution_count": null,
      "metadata": {
        "colab": {
          "base_uri": "https://localhost:8080/"
        },
        "id": "ex-CbzlbO1tw",
        "outputId": "e5361e0d-b9b5-4d3a-a430-201c25f9901f"
      },
      "outputs": [
        {
          "name": "stdout",
          "output_type": "stream",
          "text": [
            "True\n",
            "False\n"
          ]
        }
      ],
      "source": [
        "#typecasting to boolen\n",
        "is_true = bool(1)\n",
        "is_false = bool(0)\n",
        "print(is_true)\n",
        "print(is_false)"
      ]
    },
    {
      "cell_type": "code",
      "execution_count": null,
      "metadata": {
        "colab": {
          "base_uri": "https://localhost:8080/",
          "height": 193
        },
        "id": "1gMfdI5sPp0e",
        "outputId": "e727062b-50aa-4f10-f4cd-eb6665bb2aed"
      },
      "outputs": [
        {
          "ename": "ValueError",
          "evalue": "invalid literal for int() with base 10: 'Hello'",
          "output_type": "error",
          "traceback": [
            "\u001b[0;31m---------------------------------------------------------------------------\u001b[0m",
            "\u001b[0;31mValueError\u001b[0m                                Traceback (most recent call last)",
            "\u001b[0;32m<ipython-input-2-0a3e2761d5b6>\u001b[0m in \u001b[0;36m<cell line: 3>\u001b[0;34m()\u001b[0m\n\u001b[1;32m      1\u001b[0m \u001b[0;31m# values of error\u001b[0m\u001b[0;34m\u001b[0m\u001b[0;34m\u001b[0m\u001b[0m\n\u001b[1;32m      2\u001b[0m \u001b[0mnon_numeric_string\u001b[0m \u001b[0;34m=\u001b[0m \u001b[0;34m\"Hello\"\u001b[0m\u001b[0;34m\u001b[0m\u001b[0;34m\u001b[0m\u001b[0m\n\u001b[0;32m----> 3\u001b[0;31m \u001b[0mnum_int\u001b[0m \u001b[0;34m=\u001b[0m \u001b[0mint\u001b[0m\u001b[0;34m(\u001b[0m\u001b[0mnon_numeric_string\u001b[0m\u001b[0;34m)\u001b[0m\u001b[0;34m\u001b[0m\u001b[0;34m\u001b[0m\u001b[0m\n\u001b[0m\u001b[1;32m      4\u001b[0m \u001b[0mprint\u001b[0m\u001b[0;34m(\u001b[0m\u001b[0;34m\"converted value:\"\u001b[0m\u001b[0;34m,\u001b[0m\u001b[0mnum_int\u001b[0m\u001b[0;34m)\u001b[0m\u001b[0;34m\u001b[0m\u001b[0;34m\u001b[0m\u001b[0m\n",
            "\u001b[0;31mValueError\u001b[0m: invalid literal for int() with base 10: 'Hello'"
          ]
        }
      ],
      "source": [
        "# values of error\n",
        "non_numeric_string = \"Hello\"\n",
        "num_int = int(non_numeric_string)\n",
        "print(\"converted value:\",num_int)"
      ]
    },
    {
      "cell_type": "code",
      "execution_count": null,
      "metadata": {
        "id": "p2xgmcoERBys"
      },
      "outputs": [],
      "source": [
        "# Intrudection to Ascii values\n",
        "# The \"ASCLL value\" of a character is a number that represents that character in the computer's memory.'[]\n",
        "\n"
      ]
    },
    {
      "cell_type": "code",
      "execution_count": null,
      "metadata": {
        "colab": {
          "base_uri": "https://localhost:8080/"
        },
        "id": "qSxjwA7yxfrq",
        "outputId": "577c4d3a-5643-4346-9a1b-280307b37ea8"
      },
      "outputs": [
        {
          "name": "stdout",
          "output_type": "stream",
          "text": [
            "65\n"
          ]
        }
      ],
      "source": [
        "char_a = 'A'\n",
        "ascii_value_a = ord(char_a)\n",
        "print(ascii_value_a)"
      ]
    },
    {
      "cell_type": "code",
      "execution_count": null,
      "metadata": {
        "colab": {
          "base_uri": "https://localhost:8080/"
        },
        "id": "NXhmfUNKuvEy",
        "outputId": "4df99308-f4bc-4bb7-f397-9c7b4dc7cec6"
      },
      "outputs": [
        {
          "name": "stdout",
          "output_type": "stream",
          "text": [
            "ASCII value of 'A' is: 65\n",
            "ASCII value of 'B' is: 66\n",
            "Character of ASCII value 65 is: A\n"
          ]
        }
      ],
      "source": [
        "#ord & chr()\n",
        "# in python you can use the ord() function ti find the Ascii value of a character.\n",
        "char_a = 'A'\n",
        "char_b = 'B'\n",
        "ascii_value_a = ord(char_a)\n",
        "ascii_value_b= ord(char_b)\n",
        "print(\"ASCII value of 'A' is:\", ascii_value_a)\n",
        "print(\"ASCII value of 'B' is:\", ascii_value_b)\n",
        "\n",
        "ascii_value = 65\n",
        "character = chr(ascii_value)\n",
        "print(\"Character of ASCII value 65 is:\",character)"
      ]
    },
    {
      "cell_type": "code",
      "execution_count": null,
      "metadata": {
        "id": "UDw9tLOuw0RB"
      },
      "outputs": [],
      "source": [
        "# OPERATORS:\n",
        "\n",
        "# Arthamatic operator\n",
        "# Assignment Operator\n",
        "# Comparison operators\n",
        "# Logical operators\n",
        "# Bitwise operator\n",
        "# special Operators\n"
      ]
    },
    {
      "cell_type": "code",
      "execution_count": null,
      "metadata": {
        "id": "GGOdjZdQ0Lcr"
      },
      "outputs": [],
      "source": [
        "# ARTHAMATIC OPERATOR:\n",
        "\n",
        "# Addition (+) : Add two operands\n",
        "# subtraction (-): Subtracts the right operand from the left operand.\n",
        "# Multiplication(*): Multiplies two operands.\n",
        "# Division(/): Divides the left operand by yhe right operand (returns a float)\n",
        "# Floor Division(//): Divise the left operand by the right operand and rounds down to the nearst intrger (returns an integer)\n",
        "# Modulo(%): returns the remainsder of the dividion.\n",
        "# Exponentiation (**): Rises the left operand to the power of the right operand."
      ]
    },
    {
      "cell_type": "code",
      "execution_count": null,
      "metadata": {
        "colab": {
          "base_uri": "https://localhost:8080/"
        },
        "id": "-a8zlV9H2Ias",
        "outputId": "786fe53e-f912-46af-a3e1-267f350e4fe5"
      },
      "outputs": [
        {
          "name": "stdout",
          "output_type": "stream",
          "text": [
            "15\n"
          ]
        }
      ],
      "source": [
        "# Addition\n",
        "a = 5\n",
        "b = 10\n",
        "c = a+b\n",
        "print(c)"
      ]
    },
    {
      "cell_type": "code",
      "execution_count": null,
      "metadata": {
        "colab": {
          "base_uri": "https://localhost:8080/"
        },
        "id": "PEGLC9jO2TvU",
        "outputId": "ff123ff0-50e2-4c54-c12f-9923faa276ac"
      },
      "outputs": [
        {
          "name": "stdout",
          "output_type": "stream",
          "text": [
            "4\n"
          ]
        }
      ],
      "source": [
        "# Subtraction\n",
        "d = 7\n",
        "f = 3\n",
        "g = d - f\n",
        "print (g)"
      ]
    },
    {
      "cell_type": "code",
      "execution_count": null,
      "metadata": {
        "colab": {
          "base_uri": "https://localhost:8080/"
        },
        "id": "Q-0YkwDC37QY",
        "outputId": "9a814346-522a-468b-b117-e7f25920a4a0"
      },
      "outputs": [
        {
          "name": "stdout",
          "output_type": "stream",
          "text": [
            "12\n"
          ]
        }
      ],
      "source": [
        "# Multiplication\n",
        "e = 3\n",
        "f = 4\n",
        "g = e*f\n",
        "print(g)"
      ]
    },
    {
      "cell_type": "code",
      "execution_count": null,
      "metadata": {
        "colab": {
          "base_uri": "https://localhost:8080/"
        },
        "id": "W1_YHNSt4Pdg",
        "outputId": "f72cd976-612c-4d71-84d3-a8fc537dfddd"
      },
      "outputs": [
        {
          "name": "stdout",
          "output_type": "stream",
          "text": [
            "3.3333333333333335\n",
            "3\n"
          ]
        }
      ],
      "source": [
        "# Divide\n",
        "h = 10\n",
        "i = 3\n",
        "j = h / i\n",
        "print(j)\n",
        "print(round(j))"
      ]
    },
    {
      "cell_type": "code",
      "execution_count": null,
      "metadata": {
        "colab": {
          "base_uri": "https://localhost:8080/"
        },
        "id": "yKrUYX_74dfX",
        "outputId": "54c6b23f-b744-49d2-915c-abe4dc832bbb"
      },
      "outputs": [
        {
          "name": "stdout",
          "output_type": "stream",
          "text": [
            "3\n"
          ]
        }
      ],
      "source": [
        "# integer division (Floorn Division)\n",
        "a = 10\n",
        "b = 3\n",
        "c = a//b\n",
        "print(c)"
      ]
    },
    {
      "cell_type": "code",
      "execution_count": null,
      "metadata": {
        "colab": {
          "base_uri": "https://localhost:8080/"
        },
        "id": "4f0n1-q_AONR",
        "outputId": "50047056-db3a-4457-fe83-559f826cead6"
      },
      "outputs": [
        {
          "name": "stdout",
          "output_type": "stream",
          "text": [
            "1\n"
          ]
        }
      ],
      "source": [
        "# modulo(remainder)\n",
        "a= 10\n",
        "b = 3\n",
        "c = a%b\n",
        "print(c)"
      ]
    },
    {
      "cell_type": "code",
      "execution_count": null,
      "metadata": {
        "colab": {
          "base_uri": "https://localhost:8080/"
        },
        "id": "RK7PfsWOAr0D",
        "outputId": "efc62cc3-04e2-42fe-f167-e67ea7e99b96"
      },
      "outputs": [
        {
          "name": "stdout",
          "output_type": "stream",
          "text": [
            "8\n"
          ]
        }
      ],
      "source": [
        "# exponentional\n",
        "a = 2\n",
        "b = 3\n",
        "c = a**b\n",
        "print(c)"
      ]
    },
    {
      "cell_type": "code",
      "execution_count": null,
      "metadata": {
        "id": "KzQLzRE2BKOQ"
      },
      "outputs": [],
      "source": [
        "# Assigenment operators:\n",
        "\n",
        "# Assignment(=): assigns the value on the right to the variable on the left.\n",
        "# Add and Assignment(+=): Adds the right operand to the variable on the left and assigns the result to the variable.\n",
        "# Subtract and Assign: Subtracts the right operand from the variable on the left and assigns the result to the variable.\n",
        "# Multiply and  Assign(*=): Multiplies the variable on the left by the right operand and assigns the tesult to the variable.\n",
        "# Divide and Assign (/=): Divides the variable on the left by the right operand and assigns the result to the variable.\n",
        "# Floor Divide and Assign : Floor divides the varible on the left by the right ioerand and assigns the result to variable.\n",
        "# Modulo amd assign(%=): Calculates the remainder of the division and assigns it to the veriables.\n",
        "# **= Exponentiate and Assign(**=): Rasies the variables on the left to the power of the right operand and assigns the result to the variable.\n"
      ]
    },
    {
      "cell_type": "code",
      "execution_count": null,
      "metadata": {
        "colab": {
          "base_uri": "https://localhost:8080/"
        },
        "id": "CzQk6dDzDT1-",
        "outputId": "7d526353-7848-48ce-b380-a287881afcd8"
      },
      "outputs": [
        {
          "name": "stdout",
          "output_type": "stream",
          "text": [
            "10\n",
            "20\n",
            "30\n"
          ]
        }
      ],
      "source": [
        "a = 10\n",
        "b = 20\n",
        "print(a)\n",
        "print(b)\n",
        "a += b\n",
        "print(a)"
      ]
    },
    {
      "cell_type": "code",
      "execution_count": null,
      "metadata": {
        "colab": {
          "base_uri": "https://localhost:8080/"
        },
        "id": "AD4zU4unE7Pp",
        "outputId": "6dc81e28-61c9-4232-82c2-ce79e0f5de2f"
      },
      "outputs": [
        {
          "name": "stdout",
          "output_type": "stream",
          "text": [
            "10\n"
          ]
        }
      ],
      "source": [
        "# Assignment operators (=):\n",
        "\n",
        "x = 10\n",
        "print(x)"
      ]
    },
    {
      "cell_type": "code",
      "execution_count": null,
      "metadata": {
        "colab": {
          "base_uri": "https://localhost:8080/"
        },
        "id": "2asHKBjLFpIa",
        "outputId": "5cede30f-b9f3-4358-9f45-0d786c5ca503"
      },
      "outputs": [
        {
          "name": "stdout",
          "output_type": "stream",
          "text": [
            "8\n"
          ]
        }
      ],
      "source": [
        "# Add and Assign(+=)\n",
        "a = 5\n",
        "a += 3\n",
        "print(a)"
      ]
    },
    {
      "cell_type": "code",
      "execution_count": null,
      "metadata": {
        "colab": {
          "base_uri": "https://localhost:8080/"
        },
        "id": "BVcoaa8zGZpE",
        "outputId": "bce096b4-a8a3-403f-ba83-000e97826854"
      },
      "outputs": [
        {
          "name": "stdout",
          "output_type": "stream",
          "text": [
            "6\n"
          ]
        }
      ],
      "source": [
        "# Subtract and assign(-=)\n",
        "a = 8\n",
        "a -= 2\n",
        "print(a)"
      ]
    },
    {
      "cell_type": "code",
      "execution_count": null,
      "metadata": {
        "colab": {
          "base_uri": "https://localhost:8080/"
        },
        "id": "_dJNzcyLGzda",
        "outputId": "82ccdedb-aca7-4893-ebea-281df7557d7d"
      },
      "outputs": [
        {
          "name": "stdout",
          "output_type": "stream",
          "text": [
            "24\n"
          ]
        }
      ],
      "source": [
        "#Multiply and assign:\n",
        "a = 8\n",
        "a *=3\n",
        "print(a)"
      ]
    },
    {
      "cell_type": "code",
      "execution_count": null,
      "metadata": {
        "colab": {
          "base_uri": "https://localhost:8080/"
        },
        "id": "-d7_S_U8Ir1B",
        "outputId": "00b267fb-a8ad-4f69-de2e-75343a1a26f9"
      },
      "outputs": [
        {
          "name": "stdout",
          "output_type": "stream",
          "text": [
            "17.333333333333332\n",
            "17\n"
          ]
        }
      ],
      "source": [
        "# Divide and ASsign(/=):\n",
        "a = 52\n",
        "a /= 3\n",
        "print(a)\n",
        "print(round(a))"
      ]
    },
    {
      "cell_type": "code",
      "execution_count": null,
      "metadata": {
        "colab": {
          "base_uri": "https://localhost:8080/"
        },
        "id": "2ZPEeCxVI5KZ",
        "outputId": "6faf104f-09f3-4e32-90ad-1a085334ea72"
      },
      "outputs": [
        {
          "name": "stdout",
          "output_type": "stream",
          "text": [
            "17\n"
          ]
        }
      ],
      "source": [
        "# Floor Divide and Assign:\n",
        "a = 52\n",
        "a //= 3\n",
        "print(a)"
      ]
    },
    {
      "cell_type": "code",
      "execution_count": null,
      "metadata": {
        "colab": {
          "base_uri": "https://localhost:8080/"
        },
        "id": "ZQZ6Nvk1JZ4X",
        "outputId": "eabe0ee7-f07e-4200-93bb-ae5e55006536"
      },
      "outputs": [
        {
          "name": "stdout",
          "output_type": "stream",
          "text": [
            "1\n"
          ]
        }
      ],
      "source": [
        "# Modulo and Assign:\n",
        "a = 52\n",
        "a %= 3\n",
        "print(a)"
      ]
    },
    {
      "cell_type": "code",
      "execution_count": null,
      "metadata": {
        "colab": {
          "base_uri": "https://localhost:8080/"
        },
        "id": "X25HnGf4Kyc3",
        "outputId": "64f6faf8-086a-439d-c387-5a7ce30c2b71"
      },
      "outputs": [
        {
          "name": "stdout",
          "output_type": "stream",
          "text": [
            "64\n"
          ]
        }
      ],
      "source": [
        "#Exponentiate and Assign\n",
        "a = 2\n",
        "a **= 6\n",
        "print(a)"
      ]
    },
    {
      "cell_type": "markdown",
      "metadata": {
        "id": "0WMEfUFhri8X"
      },
      "source": [
        "# comparision operators"
      ]
    },
    {
      "cell_type": "code",
      "execution_count": null,
      "metadata": {
        "id": "MOKqFnOeLDhp"
      },
      "outputs": [],
      "source": [
        "#  equql to (==): checks if two values are equql.\n",
        "#  Not equal to (!=): Checks if two values are not equal.\n",
        "#  Greater than(>): check if the left operator is greater than right operand.\n",
        "# Less than (<): Check if the left operand is less than the right operand.\n",
        "#  Greater than or equal to (>=): Checks if the left operand is greater than or equal to the right operand.\n",
        "# Less than or equal to (<=):Checks if the life operand less than or equal to right operand."
      ]
    },
    {
      "cell_type": "code",
      "execution_count": null,
      "metadata": {
        "colab": {
          "base_uri": "https://localhost:8080/"
        },
        "id": "7pyagknEtBXP",
        "outputId": "fc85ee84-6628-43b2-f13f-8a90391fa9a9"
      },
      "outputs": [
        {
          "name": "stdout",
          "output_type": "stream",
          "text": [
            "False\n",
            "True\n"
          ]
        }
      ],
      "source": [
        "#  equql to (==)\n",
        "a = 10\n",
        "b = 20\n",
        "print(a == b)\n",
        "\n",
        "c = 20\n",
        "d = 20\n",
        "print (c ==d)"
      ]
    },
    {
      "cell_type": "code",
      "execution_count": null,
      "metadata": {
        "colab": {
          "base_uri": "https://localhost:8080/"
        },
        "id": "fyQGijvmtG-4",
        "outputId": "a2f4cca3-59f6-4517-b263-e8a3afa5535a"
      },
      "outputs": [
        {
          "name": "stdout",
          "output_type": "stream",
          "text": [
            "True\n",
            "False\n"
          ]
        }
      ],
      "source": [
        "#  Not equal to (!=):\n",
        "a = 7\n",
        "b = 6\n",
        "print(a != b)\n",
        "\n",
        "c = 52\n",
        "d =52\n",
        "print(c != d)"
      ]
    },
    {
      "cell_type": "code",
      "execution_count": null,
      "metadata": {
        "colab": {
          "base_uri": "https://localhost:8080/"
        },
        "id": "OoZgvP48uQkm",
        "outputId": "6227c2cf-0474-4909-a65a-2b20b21ef992"
      },
      "outputs": [
        {
          "name": "stdout",
          "output_type": "stream",
          "text": [
            "False\n",
            "True\n"
          ]
        }
      ],
      "source": [
        "#  Greater than(>):\n",
        "a = 52\n",
        "b = 55\n",
        "print (a > b)\n",
        "\n",
        "c = 56\n",
        "d = 52\n",
        "print(c > d)"
      ]
    },
    {
      "cell_type": "code",
      "execution_count": null,
      "metadata": {
        "colab": {
          "base_uri": "https://localhost:8080/"
        },
        "id": "Is0rRkSeuvcW",
        "outputId": "e1fa6c48-e661-4db7-eaae-4af1fe4fc41f"
      },
      "outputs": [
        {
          "name": "stdout",
          "output_type": "stream",
          "text": [
            "True\n",
            "False\n"
          ]
        }
      ],
      "source": [
        "# Less than (<):\n",
        "a = 52\n",
        "b = 55\n",
        "print (a < b)\n",
        "\n",
        "c = 56\n",
        "d = 52\n",
        "print(c < d)"
      ]
    },
    {
      "cell_type": "code",
      "execution_count": null,
      "metadata": {
        "colab": {
          "base_uri": "https://localhost:8080/"
        },
        "id": "Qw3X-carvCgW",
        "outputId": "ade12996-60c9-4cf1-c15f-993d6e4af787"
      },
      "outputs": [
        {
          "name": "stdout",
          "output_type": "stream",
          "text": [
            "False\n",
            "True\n"
          ]
        }
      ],
      "source": [
        " # Greater than or equal to (>=):\n",
        "a = 52\n",
        "b = 55\n",
        "print (a >= b)\n",
        "\n",
        "c = 56\n",
        "d = 52\n",
        "print(c >= d)"
      ]
    },
    {
      "cell_type": "code",
      "execution_count": null,
      "metadata": {
        "colab": {
          "base_uri": "https://localhost:8080/"
        },
        "id": "3wp-DcdLwdu-",
        "outputId": "72843fcc-b642-427e-86b7-3cd6ddbaaae5"
      },
      "outputs": [
        {
          "name": "stdout",
          "output_type": "stream",
          "text": [
            "True\n",
            "False\n"
          ]
        }
      ],
      "source": [
        "#Less than or equal to (<=):\n",
        "a = 52\n",
        "b = 55\n",
        "print (a <= b)\n",
        "\n",
        "c = 56\n",
        "d = 52\n",
        "print(c <= d)"
      ]
    },
    {
      "cell_type": "markdown",
      "metadata": {
        "id": "ZzpXT9-7WsWx"
      },
      "source": [
        "# Logical operatots"
      ]
    },
    {
      "cell_type": "code",
      "execution_count": null,
      "metadata": {
        "id": "8IojowcJwzzA"
      },
      "outputs": [],
      "source": [
        "# and Logical AND : Returrns TRrue if both condationas True.\n",
        "# or Logical OR : returns True if at least one condition is True.\n",
        "# not Logical NOT : Returns True if the condition is False, and Vice versa"
      ]
    },
    {
      "cell_type": "code",
      "execution_count": null,
      "metadata": {
        "colab": {
          "base_uri": "https://localhost:8080/"
        },
        "id": "E-_lZoz5YOkC",
        "outputId": "644bc6f2-3b05-41a7-97f6-7f6e5ac8ec91"
      },
      "outputs": [
        {
          "name": "stdout",
          "output_type": "stream",
          "text": [
            "False\n"
          ]
        }
      ],
      "source": [
        "# Logical Operator : AND\n",
        "x = True\n",
        "Y = False\n",
        "z = x and Y\n",
        "print(z)"
      ]
    },
    {
      "cell_type": "code",
      "execution_count": null,
      "metadata": {
        "colab": {
          "base_uri": "https://localhost:8080/"
        },
        "id": "UBjtKyLUYizv",
        "outputId": "04b86cba-7772-4f34-968b-51159d1ed418"
      },
      "outputs": [
        {
          "name": "stdout",
          "output_type": "stream",
          "text": [
            "True\n"
          ]
        }
      ],
      "source": [
        "# Logical operator : OR\n",
        "a = True\n",
        "b = False\n",
        "\n",
        "c = a or b\n",
        "print(c)"
      ]
    },
    {
      "cell_type": "code",
      "execution_count": null,
      "metadata": {
        "colab": {
          "base_uri": "https://localhost:8080/"
        },
        "id": "DRmEdttaY4Cw",
        "outputId": "4b5696c2-24fc-4085-bc4d-0d192ada96c6"
      },
      "outputs": [
        {
          "name": "stdout",
          "output_type": "stream",
          "text": [
            "False\n"
          ]
        }
      ],
      "source": [
        "# Logical operator : NOT\n",
        "f = True\n",
        "\n",
        "\n",
        "h =  not f\n",
        "print(h)"
      ]
    },
    {
      "cell_type": "markdown",
      "metadata": {
        "id": "g3J9zL8jaWr0"
      },
      "source": [
        "# Membership operators"
      ]
    },
    {
      "cell_type": "markdown",
      "metadata": {
        "id": "ufpeaVOkbT9I"
      },
      "source": []
    },
    {
      "cell_type": "code",
      "execution_count": null,
      "metadata": {
        "id": "n_e3vEdlZVe1"
      },
      "outputs": [],
      "source": [
        "# in Membership : Returns True if the value is present in the sequence.\n",
        "# not in Negated Membership: Returns True if the value is not present in the sequence."
      ]
    },
    {
      "cell_type": "code",
      "execution_count": null,
      "metadata": {
        "colab": {
          "base_uri": "https://localhost:8080/"
        },
        "id": "2HtT-5XebVPd",
        "outputId": "cfa318e2-98e2-4270-ec8c-5ae9160870a7"
      },
      "outputs": [
        {
          "name": "stdout",
          "output_type": "stream",
          "text": [
            "True\n",
            "True\n",
            "False\n"
          ]
        }
      ],
      "source": [
        "# in Membership :\n",
        "t = [1,2,3,4,5,6]\n",
        "print(1 in t)\n",
        "print(10 not in t)\n",
        "print (9 in t)"
      ]
    },
    {
      "cell_type": "code",
      "execution_count": null,
      "metadata": {
        "colab": {
          "base_uri": "https://localhost:8080/",
          "height": 106
        },
        "id": "4DNLmlZnbrAv",
        "outputId": "abe03f78-bb81-4671-f59f-2e07b0259ec1"
      },
      "outputs": [
        {
          "ename": "SyntaxError",
          "evalue": "invalid syntax. Perhaps you forgot a comma? (<ipython-input-12-c8ce562ccf77>, line 8)",
          "output_type": "error",
          "traceback": [
            "\u001b[0;36m  File \u001b[0;32m\"<ipython-input-12-c8ce562ccf77>\"\u001b[0;36m, line \u001b[0;32m8\u001b[0m\n\u001b[0;31m    print(\"'watermelon' is not in the list:\", is_watermelon_not_in _list)\u001b[0m\n\u001b[0m                                              ^\u001b[0m\n\u001b[0;31mSyntaxError\u001b[0m\u001b[0;31m:\u001b[0m invalid syntax. Perhaps you forgot a comma?\n"
          ]
        }
      ],
      "source": [
        "fruits = ['apple','banana','orange','grape']\n",
        "#  check if 'apple' is in the list\n",
        "is_apple_in_list = 'apple' in fruits\n",
        "print(\"'apple' is in the list :\")\n",
        "\n",
        "# check if 'watermelon' is not in the list\n",
        "is_watermelon_not_in_list = 'watermelon' not in fruits\n",
        "print(\"'watermelon' is not in the list:\", is_watermelon_not_in _list)"
      ]
    },
    {
      "cell_type": "code",
      "execution_count": null,
      "metadata": {
        "colab": {
          "base_uri": "https://localhost:8080/"
        },
        "id": "m_cF_JTSd7rZ",
        "outputId": "32599ed2-4d5e-4bfe-898e-e6132209a0d4"
      },
      "outputs": [
        {
          "name": "stdout",
          "output_type": "stream",
          "text": [
            "False\n",
            "True\n"
          ]
        }
      ],
      "source": [
        "# variables with the same values\n",
        "name1 = \"john\"\n",
        "name2 = \"john\"\n",
        "\n",
        "# check if name1 and name2 refer to different objects in memory\n",
        "name3 = name1 is not name2\n",
        "print(name3)\n",
        "\n",
        "# variables with different values\n",
        "num1 = 10\n",
        "num2 = 20\n",
        "\n",
        "# check if num1 and num2 refer to different objects in memories\n",
        "num3 = num1 is not num2\n",
        "print(num3)"
      ]
    },
    {
      "cell_type": "markdown",
      "metadata": {
        "id": "_0LjbhQlf9a6"
      },
      "source": [
        "# Bitwise Operator"
      ]
    },
    {
      "cell_type": "code",
      "execution_count": null,
      "metadata": {
        "id": "D_cn8N6AfCZE"
      },
      "outputs": [],
      "source": [
        "# Bitwise AND (&): set each bit to 1 if both bits are 1.\n",
        "# Bitwise OR (|) : set each bit to 1 if at least one of the bits is 1.\n",
        "# Bitwise XOX (^): Set each bit to 1 if only one of the bits is 1.\n",
        "# Bitwise NOT(~): Inverts the bits, changing 1 to 0 and to 1.\n",
        "# Bitwise left shift(<<): shift the bits to the left by a specified number of positions.\n",
        "# Bitwise right shift(>>): shift the bits to the right by a specified number of positions."
      ]
    },
    {
      "cell_type": "code",
      "execution_count": null,
      "metadata": {
        "colab": {
          "base_uri": "https://localhost:8080/"
        },
        "id": "gOLx4lVHhU2x",
        "outputId": "87ec243b-c579-49c0-82fc-e15e4c2f9a65"
      },
      "outputs": [
        {
          "name": "stdout",
          "output_type": "stream",
          "text": [
            "2\n"
          ]
        }
      ],
      "source": [
        "# Bitwise AND (&):\n",
        "a = 2\n",
        "b = 3\n",
        "print(a&b)\n"
      ]
    },
    {
      "cell_type": "code",
      "execution_count": null,
      "metadata": {
        "colab": {
          "base_uri": "https://localhost:8080/"
        },
        "id": "kpRtkR-Zh3nB",
        "outputId": "cdf03f80-ec79-4732-d316-82a068e3c874"
      },
      "outputs": [
        {
          "name": "stdout",
          "output_type": "stream",
          "text": [
            "3\n"
          ]
        }
      ],
      "source": [
        "# Bitwise OR (|) :\n",
        "a = 2\n",
        "b = 3\n",
        "print(a|b)"
      ]
    },
    {
      "cell_type": "code",
      "execution_count": null,
      "metadata": {
        "colab": {
          "base_uri": "https://localhost:8080/"
        },
        "id": "kcI-4E90iGf8",
        "outputId": "83cab4a7-f13c-4ab3-a6ff-31f91dffe9c9"
      },
      "outputs": [
        {
          "name": "stdout",
          "output_type": "stream",
          "text": [
            "1\n"
          ]
        }
      ],
      "source": [
        "# Bitwise XOX (^):\n",
        "a = 2\n",
        "b = 3\n",
        "print(a^b)"
      ]
    },
    {
      "cell_type": "code",
      "execution_count": null,
      "metadata": {
        "colab": {
          "base_uri": "https://localhost:8080/",
          "height": 106
        },
        "id": "v_o1UJI9iSAU",
        "outputId": "1944dd99-2202-472c-c6a2-4ba4cd9db309"
      },
      "outputs": [
        {
          "ename": "SyntaxError",
          "evalue": "invalid syntax. Perhaps you forgot a comma? (<ipython-input-19-4c31551c772b>, line 4)",
          "output_type": "error",
          "traceback": [
            "\u001b[0;36m  File \u001b[0;32m\"<ipython-input-19-4c31551c772b>\"\u001b[0;36m, line \u001b[0;32m4\u001b[0m\n\u001b[0;31m    print(a~b)\u001b[0m\n\u001b[0m          ^\u001b[0m\n\u001b[0;31mSyntaxError\u001b[0m\u001b[0;31m:\u001b[0m invalid syntax. Perhaps you forgot a comma?\n"
          ]
        }
      ],
      "source": [
        "# Bitwise NOT(~):\n",
        "a = 2\n",
        "b = 3\n",
        "print(a~b)"
      ]
    },
    {
      "cell_type": "code",
      "execution_count": null,
      "metadata": {
        "colab": {
          "base_uri": "https://localhost:8080/"
        },
        "id": "KsETUNUeiteN",
        "outputId": "57fb7d2e-bae4-4042-c8ce-808b6dad895f"
      },
      "outputs": [
        {
          "name": "stdout",
          "output_type": "stream",
          "text": [
            "8\n"
          ]
        }
      ],
      "source": [
        "# Bitwise left shift(<<):\n",
        "a = 2<<2\n",
        "print(a)"
      ]
    },
    {
      "cell_type": "code",
      "execution_count": null,
      "metadata": {
        "colab": {
          "base_uri": "https://localhost:8080/"
        },
        "id": "9VgaL_UeklDq",
        "outputId": "13601f5f-22c9-4727-ad66-d3a2f8142d6e"
      },
      "outputs": [
        {
          "name": "stdout",
          "output_type": "stream",
          "text": [
            "0\n"
          ]
        }
      ],
      "source": [
        "# Bitwise right shift(>>):\n",
        "a = 2>>2\n",
        "print(a)"
      ]
    },
    {
      "cell_type": "code",
      "execution_count": null,
      "metadata": {
        "id": "oyjBjQS-4_st"
      },
      "outputs": [],
      "source": []
    },
    {
      "cell_type": "code",
      "execution_count": null,
      "metadata": {
        "id": "DaVQ2pmmyMeN"
      },
      "outputs": [],
      "source": []
    },
    {
      "cell_type": "code",
      "execution_count": null,
      "metadata": {
        "id": "92pZA-E9yMa1"
      },
      "outputs": [],
      "source": []
    },
    {
      "cell_type": "markdown",
      "metadata": {
        "id": "wpO8bymPyNwg"
      },
      "source": [
        "# SYNTEX & INDENTATION"
      ]
    },
    {
      "cell_type": "code",
      "execution_count": null,
      "metadata": {
        "id": "sQoTBNnFyMWw"
      },
      "outputs": [],
      "source": [
        "# input:--\n",
        "#\"input()\" function is used to take input from the user via the keyboard during the program,s execution\n",
        "\n",
        "# Types\n",
        "\n",
        "# input()----> string\n",
        "# int()---> integet\n",
        "# float()----->float\n"
      ]
    },
    {
      "cell_type": "code",
      "execution_count": null,
      "metadata": {
        "colab": {
          "base_uri": "https://localhost:8080/"
        },
        "id": "8JILxScGzbXE",
        "outputId": "b646eca9-89d2-4caf-c785-c2751583bbf3"
      },
      "outputs": [
        {
          "name": "stdout",
          "output_type": "stream",
          "text": [
            "ranjith\n",
            "my name is  ranjith\n",
            "ranjith\n"
          ]
        }
      ],
      "source": [
        "# input statements:\n",
        "name = input()\n",
        "print(\"my name is \", name)\n",
        "print(name)"
      ]
    },
    {
      "cell_type": "code",
      "execution_count": null,
      "metadata": {
        "colab": {
          "base_uri": "https://localhost:8080/"
        },
        "id": "tvsrA5oczo7d",
        "outputId": "78e78d81-df36-4289-ca0c-7dcdf9c1f4e0"
      },
      "outputs": [
        {
          "name": "stdout",
          "output_type": "stream",
          "text": [
            "enter abs value is:123\n",
            "123\n"
          ]
        }
      ],
      "source": [
        "# string input:---> using input for name (string)\n",
        "abs = input(\"enter abs value is:\")\n",
        "print(abs)"
      ]
    },
    {
      "cell_type": "code",
      "execution_count": null,
      "metadata": {
        "colab": {
          "base_uri": "https://localhost:8080/"
        },
        "id": "cqE1amus2kiF",
        "outputId": "9a1d6adb-9e2c-47d2-9ce5-bcfe34c2d247"
      },
      "outputs": [
        {
          "name": "stdout",
          "output_type": "stream",
          "text": [
            "12\n",
            "<class 'str'>\n"
          ]
        }
      ],
      "source": [
        "num = input(\"give number: \")\n",
        "print(type(num))"
      ]
    },
    {
      "cell_type": "code",
      "execution_count": null,
      "metadata": {
        "colab": {
          "base_uri": "https://localhost:8080/"
        },
        "id": "Y-l32isV0j2N",
        "outputId": "e97561e4-0bda-41af-eceb-451342f8cb06"
      },
      "outputs": [
        {
          "name": "stdout",
          "output_type": "stream",
          "text": [
            "how old are you ?21\n"
          ]
        }
      ],
      "source": [
        "# syntax for integer input\n",
        "\n",
        "# int input:\n",
        "# User input for age (integer)\n",
        "age_str = input(\"how old are you ?\")\n",
        "age = int (age_str)\n",
        "# comvert the input string to intrger"
      ]
    },
    {
      "cell_type": "code",
      "execution_count": null,
      "metadata": {
        "colab": {
          "base_uri": "https://localhost:8080/"
        },
        "id": "juD8HIGJ3WhD",
        "outputId": "34fd7f19-6496-45d9-b0bf-32c90f6f10d9"
      },
      "outputs": [
        {
          "name": "stdout",
          "output_type": "stream",
          "text": [
            "hello1\n",
            "<class 'int'>\n"
          ]
        }
      ],
      "source": [
        "num = int(input(\"hello\"))\n",
        "print(type(num))"
      ]
    },
    {
      "cell_type": "code",
      "execution_count": null,
      "metadata": {
        "colab": {
          "base_uri": "https://localhost:8080/"
        },
        "id": "iDxm8l4n119c",
        "outputId": "5f1efdf0-1ce2-4cd0-892a-1d34752cd05c"
      },
      "outputs": [
        {
          "name": "stdout",
          "output_type": "stream",
          "text": [
            "how old are you?21\n"
          ]
        }
      ],
      "source": [
        "# int input\n",
        "# user input for age (integer)\n",
        "age_str = int(input(\"how old are you?\"))"
      ]
    },
    {
      "cell_type": "code",
      "execution_count": null,
      "metadata": {
        "colab": {
          "base_uri": "https://localhost:8080/"
        },
        "id": "1MfCnFPz2UhP",
        "outputId": "1daff38c-20e3-4909-df45-32809983eecb"
      },
      "outputs": [
        {
          "name": "stdout",
          "output_type": "stream",
          "text": [
            "Enter your weight in kilograms:20\n",
            "<class 'float'>\n"
          ]
        }
      ],
      "source": [
        "# float input\n",
        "# user input for wright(float)\n",
        "weight_str = input(\"Enter your weight in kilograms:\")\n",
        "weight = float(weight_str)\n",
        "print(type(weight))\n",
        "# convrt the input string to a float\n"
      ]
    },
    {
      "cell_type": "code",
      "execution_count": null,
      "metadata": {
        "colab": {
          "base_uri": "https://localhost:8080/"
        },
        "id": "87Wa2pBj4Vl0",
        "outputId": "ab951965-9283-47f4-9053-6d2b28cf1106"
      },
      "outputs": [
        {
          "name": "stdout",
          "output_type": "stream",
          "text": [
            "Enter your weight in kilograms:20\n"
          ]
        }
      ],
      "source": [
        "# float input\n",
        "# user input for weight(float)\n",
        "weight_str = float (input(\"Enter your weight in kilograms:\"))"
      ]
    },
    {
      "cell_type": "code",
      "execution_count": null,
      "metadata": {
        "colab": {
          "base_uri": "https://localhost:8080/"
        },
        "id": "cDUwFFUp5GpR",
        "outputId": "2752b239-02ba-4950-90bf-1af0c309316c"
      },
      "outputs": [
        {
          "name": "stdout",
          "output_type": "stream",
          "text": [
            "enter your name: ranjith\n",
            "enter your age: 21\n",
            "hello,ranjith! you are 21 years old.\n"
          ]
        }
      ],
      "source": [
        "name = input(\"enter your name: \")\n",
        "age = int(input(\"enter your age: \"))\n",
        "print(\"hello,\" + name + \"! you are\", age, \"years old.\")"
      ]
    },
    {
      "cell_type": "code",
      "execution_count": null,
      "metadata": {
        "id": "OkH7ZHk66Jyu"
      },
      "outputs": [],
      "source": [
        "# OUTPUT\n",
        "# The print() function is used to display output to the console or terminal. it allows you to show information\n",
        "\n",
        "# object\n",
        "# sep\n",
        "# end\n",
        "# file\n",
        "# flush"
      ]
    },
    {
      "cell_type": "code",
      "execution_count": null,
      "metadata": {
        "colab": {
          "base_uri": "https://localhost:8080/"
        },
        "id": "qqrU-c-g734b",
        "outputId": "873633c8-23d0-48d8-ba80-a841fc184d72"
      },
      "outputs": [
        {
          "name": "stdout",
          "output_type": "stream",
          "text": [
            "give a value :10\n",
            "give b value :20\n",
            "10 20\n"
          ]
        }
      ],
      "source": [
        "a = int(input(\"give a value :\"))\n",
        "b = int(input(\"give b value :\"))\n",
        "\n",
        "print(a,b)"
      ]
    },
    {
      "cell_type": "code",
      "execution_count": null,
      "metadata": {
        "colab": {
          "base_uri": "https://localhost:8080/"
        },
        "id": "cwOpTwe-852b",
        "outputId": "c20a17a1-992e-42af-b2db-bd1026af85b0"
      },
      "outputs": [
        {
          "name": "stdout",
          "output_type": "stream",
          "text": [
            "give a value :10\n",
            "give b value :10\n",
            "10-10\n"
          ]
        }
      ],
      "source": [
        "# sep\n",
        "a = int(input(\"give a value :\"))\n",
        "b = int(input(\"give b value :\"))\n",
        "\n",
        "print(a,b,sep=\"-\")"
      ]
    },
    {
      "cell_type": "code",
      "execution_count": null,
      "metadata": {
        "colab": {
          "base_uri": "https://localhost:8080/"
        },
        "id": "VCrk2aUT9Qc0",
        "outputId": "d1ce6559-3cc1-4769-ebcf-7f2a4ddbe889"
      },
      "outputs": [
        {
          "name": "stdout",
          "output_type": "stream",
          "text": [
            "give a value :10\n",
            "give b value :20\n",
            "10hello20\n"
          ]
        }
      ],
      "source": [
        "a = int(input(\"give a value :\"))\n",
        "b = int(input(\"give b value :\"))\n",
        "\n",
        "print(a,b,sep = \"hello\")"
      ]
    },
    {
      "cell_type": "code",
      "execution_count": null,
      "metadata": {
        "colab": {
          "base_uri": "https://localhost:8080/"
        },
        "id": "3P59mvjN9eVj",
        "outputId": "5a65952f-b531-4bb5-cf59-33e6dfec7b9c"
      },
      "outputs": [
        {
          "name": "stdout",
          "output_type": "stream",
          "text": [
            "give a value :10\n",
            "give b value :20\n",
            "10,20,10,20ended hear."
          ]
        }
      ],
      "source": [
        "# end\n",
        "a = int(input(\"give a value :\"))\n",
        "b = int(input(\"give b value :\"))\n",
        "\n",
        "print(a,b,a,b,sep=\",\",end=\"ended hear.\")"
      ]
    },
    {
      "cell_type": "code",
      "execution_count": null,
      "metadata": {
        "colab": {
          "base_uri": "https://localhost:8080/"
        },
        "id": "0BvPwzTf-wz_",
        "outputId": "04daea97-1a7b-45f9-bb65-e90ade8597b0"
      },
      "outputs": [
        {
          "name": "stdout",
          "output_type": "stream",
          "text": [
            "enter name:10\n",
            "hello, 10!"
          ]
        }
      ],
      "source": [
        "a = input(\"enter name:\")\n",
        "print(\"hello\",a, sep=\", \", end=\"!\")"
      ]
    },
    {
      "cell_type": "code",
      "execution_count": null,
      "metadata": {
        "id": "GpEc17CW-wiW"
      },
      "outputs": [],
      "source": [
        "10\n",
        "JOHN"
      ]
    },
    {
      "cell_type": "code",
      "execution_count": null,
      "metadata": {
        "colab": {
          "base_uri": "https://localhost:8080/"
        },
        "id": "CKTzNK8x-dtU",
        "outputId": "7b196719-6a20-414b-e86f-43b7cf980aa2"
      },
      "outputs": [
        {
          "name": "stdout",
          "output_type": "stream",
          "text": [
            "give a value :10\n",
            "give b value :20\n",
            "10 20\n"
          ]
        }
      ],
      "source": [
        "# file\n",
        "a = int(input(\"give a value :\"))\n",
        "b = int(input(\"give b value :\"))\n",
        "\n",
        "print(a,b)"
      ]
    },
    {
      "cell_type": "code",
      "execution_count": null,
      "metadata": {
        "colab": {
          "base_uri": "https://localhost:8080/"
        },
        "id": "H4MSXsj6Ae37",
        "outputId": "4a47ddc0-258f-4c2a-fc36-7f35ac6f194c"
      },
      "outputs": [
        {
          "name": "stdout",
          "output_type": "stream",
          "text": [
            "give value of num:20\n",
            "20\n"
          ]
        }
      ],
      "source": [
        "num = int(input(\"give value of num:\"))\n",
        "print(num)"
      ]
    },
    {
      "cell_type": "code",
      "execution_count": null,
      "metadata": {
        "colab": {
          "base_uri": "https://localhost:8080/"
        },
        "id": "hFLZ710_BeXO",
        "outputId": "a7bec3aa-b3bc-4858-a20e-33680d9eb8b3"
      },
      "outputs": [
        {
          "name": "stdout",
          "output_type": "stream",
          "text": [
            "you entered:20\n"
          ]
        }
      ],
      "source": [
        "print(\"you entered:\",num, sep=\"\")"
      ]
    },
    {
      "cell_type": "code",
      "execution_count": null,
      "metadata": {
        "colab": {
          "base_uri": "https://localhost:8080/"
        },
        "id": "uMUzr-LwBobT",
        "outputId": "72f27c80-fe22-4b76-a07f-08f0c2151673"
      },
      "outputs": [
        {
          "name": "stdout",
          "output_type": "stream",
          "text": [
            "give the value of num:3.14\n",
            "3.14\n"
          ]
        }
      ],
      "source": [
        "#float input and output\n",
        "num = float(input(\"give the value of num:\"))\n",
        "print(num)"
      ]
    },
    {
      "cell_type": "code",
      "execution_count": null,
      "metadata": {
        "colab": {
          "base_uri": "https://localhost:8080/"
        },
        "id": "ltSHTMjrCkeB",
        "outputId": "886a43a9-97e7-40e5-afb6-b1c2c40d3a27"
      },
      "outputs": [
        {
          "name": "stdout",
          "output_type": "stream",
          "text": [
            "value of pi: 3.14\n"
          ]
        }
      ],
      "source": [
        "print(\"value of pi:\",num)"
      ]
    },
    {
      "cell_type": "code",
      "execution_count": null,
      "metadata": {
        "colab": {
          "base_uri": "https://localhost:8080/"
        },
        "id": "3z0Iz6eFC8JF",
        "outputId": "77e34648-40cf-4f1f-e4f9-d251de8e6667"
      },
      "outputs": [
        {
          "name": "stdout",
          "output_type": "stream",
          "text": [
            "10 20 30\n",
            "60\n"
          ]
        }
      ],
      "source": [
        "# Takeing multiple inputs in a single Line:\n",
        "a = input()                                 # input 10,20,30   # output = 60\n",
        "x,y,z =a.split(\" \")\n",
        "sum = int(x)+int(y)+int(z)\n",
        "print(sum)"
      ]
    },
    {
      "cell_type": "code",
      "execution_count": null,
      "metadata": {
        "colab": {
          "base_uri": "https://localhost:8080/"
        },
        "id": "hA78ds2QEJQa",
        "outputId": "9e6a55aa-bb79-404e-dd02-dd4e28f480fa"
      },
      "outputs": [
        {
          "name": "stdout",
          "output_type": "stream",
          "text": [
            "enter name and age:John,25\n",
            "Name: John , age: 25\n"
          ]
        }
      ],
      "source": [
        "# specifying separator in output\n",
        "# input = \"john\", 25\n",
        "# output = Name: \"John,Age:25\"\n",
        "a = input(\"enter name and age:\")\n",
        "name,age = a.split(\",\")\n",
        "print(\"Name:\",name,\",\",\"age:\",age)"
      ]
    },
    {
      "cell_type": "code",
      "execution_count": null,
      "metadata": {
        "colab": {
          "base_uri": "https://localhost:8080/"
        },
        "id": "7iNalPI5FmBH",
        "outputId": "9a0b9c88-9a99-422f-bd67-185495072921"
      },
      "outputs": [
        {
          "name": "stdout",
          "output_type": "stream",
          "text": [
            "Enter n:5\n",
            "Countdown: 5 4 3 2 1    Blast Off!\n"
          ]
        }
      ],
      "source": [
        "# End parameret in Output:\n",
        "# input : 5\n",
        "# output : \"countdowm:5 4 3 2 1 Blast Off\n",
        "n = int(input(\"Enter n:\"))\n",
        "print(\"Countdown: 5 4 3 2 1\",\" \",\" Blast Off!\")"
      ]
    },
    {
      "cell_type": "code",
      "execution_count": null,
      "metadata": {
        "colab": {
          "base_uri": "https://localhost:8080/"
        },
        "id": "DB11X0JFIg2r",
        "outputId": "be029436-6eac-41ea-b8ec-b9a1fed59b11"
      },
      "outputs": [
        {
          "name": "stdout",
          "output_type": "stream",
          "text": [
            "15\n",
            "5\n",
            "50\n",
            "2.0\n"
          ]
        }
      ],
      "source": [
        "# Arthamatic operators:\n",
        "# input = 10,5\n",
        "# output = addition:15,subtraction:5,Multiplication:50,Division:2.0\n",
        "a = 10\n",
        "b = 5\n",
        "print(a+b)\n",
        "print(a-b)\n",
        "print(a*b)\n",
        "print(a/b)"
      ]
    },
    {
      "cell_type": "code",
      "execution_count": null,
      "metadata": {
        "id": "F8zW2-6TPa11"
      },
      "outputs": [],
      "source": []
    },
    {
      "cell_type": "code",
      "execution_count": null,
      "metadata": {
        "colab": {
          "base_uri": "https://localhost:8080/"
        },
        "id": "MelEe7FTLDan",
        "outputId": "75353bf8-8c21-41e1-8eca-b674a536a552"
      },
      "outputs": [
        {
          "name": "stdout",
          "output_type": "stream",
          "text": [
            "Enter a and b values:10,5\n",
            "addition 15 ,subtraction 5 ,Multiplication 50 ,Division 2.0\n"
          ]
        }
      ],
      "source": [
        "x,y = input(\"Enter a and b values:\").split(\",\")\n",
        "a = int(x)\n",
        "b = int(y)\n",
        "print(\"addition\",a+b,\",subtraction\",a-b,\",Multiplication\",a*b,\",Division\",a/b)"
      ]
    },
    {
      "cell_type": "code",
      "execution_count": null,
      "metadata": {
        "colab": {
          "base_uri": "https://localhost:8080/"
        },
        "id": "lDje-p7ELgSa",
        "outputId": "a353b777-a9e9-4a55-831f-251d5e72a632"
      },
      "outputs": [
        {
          "name": "stdout",
          "output_type": "stream",
          "text": [
            "Enter a and b values:10,5\n",
            "True : False : False : True :\n"
          ]
        }
      ],
      "source": [
        "# comparison Operators\n",
        "# input= 10, 5\n",
        "#output =  10>5:True,10<5:False,10==5:False,10! = 5: True\n",
        "x,y = input(\"Enter a and b values:\").split(\",\")\n",
        "a = int(x)\n",
        "b = int(y)\n",
        "print(a>b,\":\",a<b,\":\",a==b,\":\",a!=b,\":\")\n"
      ]
    },
    {
      "cell_type": "code",
      "execution_count": null,
      "metadata": {
        "colab": {
          "base_uri": "https://localhost:8080/"
        },
        "id": "AeCYg-GmPqrG",
        "outputId": "865ea70a-fa6f-47fc-8f46-565f6ec3e6a9"
      },
      "outputs": [
        {
          "name": "stdout",
          "output_type": "stream",
          "text": [
            "Enter a and b values:10,5\n",
            "True False False True\n"
          ]
        }
      ],
      "source": [
        " x,y = input(\"Enter a and b values:\").split(\",\")\n",
        "a = int(x)\n",
        "b = int(y)\n",
        "print(a>b,a<b,a==b,a!=b)"
      ]
    },
    {
      "cell_type": "code",
      "execution_count": null,
      "metadata": {
        "colab": {
          "base_uri": "https://localhost:8080/",
          "height": 176
        },
        "id": "ZYeLGdVBQ4HL",
        "outputId": "5347d4b7-5601-4815-82ff-9cb9ac49e9f8"
      },
      "outputs": [
        {
          "ename": "NameError",
          "evalue": "name 'prin' is not defined",
          "output_type": "error",
          "traceback": [
            "\u001b[0;31m---------------------------------------------------------------------------\u001b[0m",
            "\u001b[0;31mNameError\u001b[0m                                 Traceback (most recent call last)",
            "\u001b[0;32m<ipython-input-50-8e862cfcf6e0>\u001b[0m in \u001b[0;36m<cell line: 5>\u001b[0;34m()\u001b[0m\n\u001b[1;32m      3\u001b[0m \u001b[0;31m# Output= \"True and False:False,True or False : True, not True : False\"\u001b[0m\u001b[0;34m\u001b[0m\u001b[0;34m\u001b[0m\u001b[0m\n\u001b[1;32m      4\u001b[0m \u001b[0mx\u001b[0m\u001b[0;34m,\u001b[0m\u001b[0my\u001b[0m \u001b[0;34m=\u001b[0m \u001b[0;32mTrue\u001b[0m\u001b[0;34m,\u001b[0m\u001b[0;32mFalse\u001b[0m\u001b[0;34m\u001b[0m\u001b[0;34m\u001b[0m\u001b[0m\n\u001b[0;32m----> 5\u001b[0;31m \u001b[0mprin\u001b[0m\u001b[0;34m(\u001b[0m\u001b[0mx\u001b[0m \u001b[0;32mand\u001b[0m \u001b[0my\u001b[0m\u001b[0;34m,\u001b[0m\u001b[0mx\u001b[0m \u001b[0;32mor\u001b[0m \u001b[0my\u001b[0m\u001b[0;34m,\u001b[0m\u001b[0;32mnot\u001b[0m \u001b[0mx\u001b[0m\u001b[0;34m)\u001b[0m\u001b[0;34m\u001b[0m\u001b[0;34m\u001b[0m\u001b[0m\n\u001b[0m",
            "\u001b[0;31mNameError\u001b[0m: name 'prin' is not defined"
          ]
        }
      ],
      "source": [
        "# logical operator\n",
        "# input= True,False\n",
        "# Output= \"True and False:False,True or False : True, not True : False\"\n",
        "x,y = True,False\n",
        "prin(x and y,x or y,not x)"
      ]
    },
    {
      "cell_type": "code",
      "execution_count": null,
      "metadata": {
        "colab": {
          "base_uri": "https://localhost:8080/"
        },
        "id": "SF1CpPU3Tdbl",
        "outputId": "386a6c9a-63c4-4ddf-ead2-59cb84843d3d"
      },
      "outputs": [
        {
          "name": "stdout",
          "output_type": "stream",
          "text": [
            "Enter name and age:Alice,25\n",
            "Name:Alice,Age:25years\n"
          ]
        }
      ],
      "source": [
        "# Formatting Output using f-strings\n",
        "# input =\"Alice\",25\n",
        "# output = \"name:Alice,Age:25years\"\n",
        "\n",
        "x,y = input(\"Enter name and age:\").split(\",\")\n",
        "print(f\"Name:{x},Age:{y}years\")\n"
      ]
    },
    {
      "cell_type": "markdown",
      "metadata": {
        "id": "5F7E2weO8Gdl"
      },
      "source": []
    },
    {
      "cell_type": "markdown",
      "metadata": {
        "id": "Qf_MxHJ08GaP"
      },
      "source": []
    },
    {
      "cell_type": "markdown",
      "metadata": {
        "id": "7C0s4peI8GYE"
      },
      "source": []
    },
    {
      "cell_type": "markdown",
      "metadata": {
        "id": "RTnI8Hrn8GVL"
      },
      "source": []
    },
    {
      "cell_type": "markdown",
      "metadata": {
        "id": "L818wkU78GTF"
      },
      "source": [
        "# PROBLUM SOLVING"
      ]
    },
    {
      "cell_type": "markdown",
      "metadata": {
        "id": "kTNsSb9g8Ug1"
      },
      "source": [
        "## FINDING THE SUM OF TWO NUMBERs"
      ]
    },
    {
      "cell_type": "code",
      "execution_count": null,
      "metadata": {
        "id": "rgyA1fBhVzIa"
      },
      "outputs": [],
      "source": [
        "# input = num1 = 5, num 2 = 10\n",
        "# output = sum = 10\n",
        "# Topics Covered :\n",
        "# input and output , variables , arithametioc operators.\n",
        "\n",
        "\n",
        "\n"
      ]
    },
    {
      "cell_type": "code",
      "execution_count": null,
      "metadata": {
        "colab": {
          "base_uri": "https://localhost:8080/"
        },
        "id": "-JzgoC7G9GMG",
        "outputId": "265c051f-cb6e-4b86-e2f7-788a959fed51"
      },
      "outputs": [
        {
          "name": "stdout",
          "output_type": "stream",
          "text": [
            "5\n",
            "10\n",
            "Sum: 15\n",
            "Sum: 15\n",
            "Sum:15\n"
          ]
        }
      ],
      "source": [
        "num1 = int (input())\n",
        "num2 = int (input())\n",
        "print(\"Sum:\", num1+num2)\n",
        "print(\"Sum:\", num1+num2,sep=\" \")\n",
        "print(f\"Sum:{num1+num2}\")"
      ]
    },
    {
      "cell_type": "code",
      "execution_count": null,
      "metadata": {
        "colab": {
          "base_uri": "https://localhost:8080/"
        },
        "id": "cwiRiiBG9sct",
        "outputId": "1aaefc0e-7537-4058-87df-b5ec64023ea4"
      },
      "outputs": [
        {
          "name": "stdout",
          "output_type": "stream",
          "text": [
            "5\n",
            "305.2447761824001\n",
            "78.5\n",
            "Area of circle : 78.5\n"
          ]
        }
      ],
      "source": [
        "# finding the area of Circle\n",
        "# input = radius = 5\n",
        "# output = Area of circle : 78.53981633974483\n",
        "\n",
        "radius = int (input())\n",
        "print(3.14**radius)\n",
        "print(3.14*radius*radius)\n",
        "print(\"Area of circle :\",3.14*radius*radius)"
      ]
    },
    {
      "cell_type": "code",
      "execution_count": null,
      "metadata": {
        "colab": {
          "base_uri": "https://localhost:8080/"
        },
        "id": "qvu1Ra-0BM9G",
        "outputId": "0fe410ac-f0e4-4988-8d0d-e93fc68ce82a"
      },
      "outputs": [
        {
          "name": "stdout",
          "output_type": "stream",
          "text": [
            "5\n",
            "78.5\n",
            "Area of circle : 78.5\n",
            "Area of circle : 78.5\n",
            "Area of circle : 78.5\n",
            "Area of circle : 78.5\n",
            "Area of circle :78.5\n",
            "Area of circle : 78.5\n"
          ]
        }
      ],
      "source": [
        "s = int (input())\n",
        "a = 3.14*(radius**2)\n",
        "print(a)\n",
        "print(\"Area of circle :\",a)\n",
        "print(f\"Area of circle :\",a)\n",
        "print(f\"Area of circle :\",a)\n",
        "print(f\"Area of circle :\",a)\n",
        "print(f\"Area of circle :{a}\")\n",
        "print(f\"Area of circle :\",a, sep = \" \")\n",
        "\n"
      ]
    },
    {
      "cell_type": "code",
      "execution_count": null,
      "metadata": {
        "colab": {
          "base_uri": "https://localhost:8080/"
        },
        "id": "TAn915H4CUv7",
        "outputId": "1095269a-c453-4634-df02-250153b9e381"
      },
      "outputs": [
        {
          "name": "stdout",
          "output_type": "stream",
          "text": [
            "Give a : 1\n",
            "Give b : -3\n",
            "Give c : 2\n",
            "Root :(2.0,1.0)\n"
          ]
        }
      ],
      "source": [
        "# Solving Quadratic Equation:\n",
        "# input:    a = 1, b = -3, c = 2\n",
        "# output: Root:(2.0,1.0)\n",
        "#   Quadric equation :---> ax^2 + bx + c = 0  ===> d = b^2-4ac\n",
        "\n",
        "\n",
        "a = int (input(\"Give a : \"))\n",
        "b = int (input(\"Give b : \"))\n",
        "c = int (input(\"Give c : \"))\n",
        "d = (b**2)-4*a*c\n",
        "r1 = (-b+(d**(0.5)))/2*a\n",
        "r2 = (-b-(d**(0.5)))/2*a\n",
        "print(f\"Root :({r1},{r2})\")\n"
      ]
    },
    {
      "cell_type": "code",
      "execution_count": null,
      "metadata": {
        "colab": {
          "base_uri": "https://localhost:8080/"
        },
        "id": "ZI7VPD-KHKDD",
        "outputId": "9af7a28a-b74f-46ea-c819-1915ebcd73a2"
      },
      "outputs": [
        {
          "name": "stdout",
          "output_type": "stream",
          "text": [
            "Give a :10\n",
            "Give b :20\n",
            "value of a is : 20\n",
            "value of b is : 10\n"
          ]
        }
      ],
      "source": [
        "# swap the values of two variables without using a temporary variable\n",
        "# input :  a = 10, b = 20\n",
        "# output = After swapping  a = 20, b = 10\n",
        "\n",
        "a = int(input(\"Give a :\"))\n",
        "b = int(input(\"Give b :\"))\n",
        "\n",
        "temp = b\n",
        "b = a\n",
        "a = temp\n",
        "print(f\"value of a is : {a}\")\n",
        "print(f\"value of b is : {b}\")"
      ]
    },
    {
      "cell_type": "code",
      "execution_count": null,
      "metadata": {
        "colab": {
          "base_uri": "https://localhost:8080/"
        },
        "id": "o7WTsCeUH-6f",
        "outputId": "4da1ffce-1d2c-49a4-e62f-4c3790f19d3c"
      },
      "outputs": [
        {
          "name": "stdout",
          "output_type": "stream",
          "text": [
            "Give a :10\n",
            "Give b :20\n",
            "value of a is : 20\n",
            "value of b is : 10\n"
          ]
        }
      ],
      "source": [
        "a = int(input(\"Give a :\"))\n",
        "b = int(input(\"Give b :\"))\n",
        "\n",
        "b = b+a\n",
        "a= b-a\n",
        "b = b-a\n",
        "print(f\"value of a is : {a}\")\n",
        "print(f\"value of b is : {b}\")"
      ]
    },
    {
      "cell_type": "code",
      "execution_count": null,
      "metadata": {
        "colab": {
          "base_uri": "https://localhost:8080/",
          "height": 228
        },
        "id": "HUOqeby0LQ_0",
        "outputId": "3db415f7-cd6a-4822-e0a1-0c2882fcae13"
      },
      "outputs": [
        {
          "name": "stdout",
          "output_type": "stream",
          "text": [
            "30\n"
          ]
        },
        {
          "ename": "NameError",
          "evalue": "name 'temperature_celsius' is not defined",
          "output_type": "error",
          "traceback": [
            "\u001b[0;31m---------------------------------------------------------------------------\u001b[0m",
            "\u001b[0;31mNameError\u001b[0m                                 Traceback (most recent call last)",
            "\u001b[0;32m<ipython-input-31-9627026eddb7>\u001b[0m in \u001b[0;36m<cell line: 5>\u001b[0;34m()\u001b[0m\n\u001b[1;32m      3\u001b[0m \u001b[0;31m# Output: Temperature in Fahrenheit : 86.0         Temperaturen in Kelvin : 303.15\u001b[0m\u001b[0;34m\u001b[0m\u001b[0;34m\u001b[0m\u001b[0m\n\u001b[1;32m      4\u001b[0m \u001b[0ma\u001b[0m \u001b[0;34m=\u001b[0m \u001b[0mint\u001b[0m\u001b[0;34m(\u001b[0m\u001b[0minput\u001b[0m\u001b[0;34m(\u001b[0m\u001b[0;34m)\u001b[0m\u001b[0;34m)\u001b[0m\u001b[0;34m\u001b[0m\u001b[0;34m\u001b[0m\u001b[0m\n\u001b[0;32m----> 5\u001b[0;31m \u001b[0mc\u001b[0m \u001b[0;34m=\u001b[0m \u001b[0mtemperature_celsius\u001b[0m\u001b[0;34m\u001b[0m\u001b[0;34m\u001b[0m\u001b[0m\n\u001b[0m\u001b[1;32m      6\u001b[0m \u001b[0mf\u001b[0m \u001b[0;34m=\u001b[0m \u001b[0mc\u001b[0m \u001b[0;34m*\u001b[0m \u001b[0;34m(\u001b[0m\u001b[0;36m9\u001b[0m\u001b[0;34m/\u001b[0m\u001b[0;36m5\u001b[0m\u001b[0;34m)\u001b[0m \u001b[0;34m+\u001b[0m \u001b[0;36m32\u001b[0m\u001b[0;34m\u001b[0m\u001b[0;34m\u001b[0m\u001b[0m\n\u001b[1;32m      7\u001b[0m \u001b[0mk\u001b[0m \u001b[0;34m=\u001b[0m \u001b[0;36m273\u001b[0m\u001b[0;34m+\u001b[0m\u001b[0mc\u001b[0m\u001b[0;34m\u001b[0m\u001b[0;34m\u001b[0m\u001b[0m\n",
            "\u001b[0;31mNameError\u001b[0m: name 'temperature_celsius' is not defined"
          ]
        }
      ],
      "source": [
        "# Convarting Temperature Units\n",
        "# input: temperature_celsius = 30\n",
        "# Output: Temperature in Fahrenheit : 86.0         Temperaturen in Kelvin : 303.15\n",
        "a = int(input())\n",
        "c = temperature_celsius\n",
        "f = c * (9/5) + 32\n",
        "k = 273+c\n",
        "print(f\"Temperature in Fahrenheit:{f}\")"
      ]
    },
    {
      "cell_type": "code",
      "execution_count": null,
      "metadata": {
        "colab": {
          "base_uri": "https://localhost:8080/"
        },
        "id": "9bDIl7iFOJd9",
        "outputId": "d53be76a-dd0f-411c-b14d-9f0e1d1e63bd"
      },
      "outputs": [
        {
          "name": "stdout",
          "output_type": "stream",
          "text": [
            "y\n"
          ]
        }
      ],
      "source": [
        " x = 8\n",
        " y = 2\n",
        " x = x+6\n",
        " y = y+6\n",
        " print(\"y\")"
      ]
    },
    {
      "cell_type": "markdown",
      "metadata": {
        "id": "KEUQp6_Ayq7Z"
      },
      "source": [
        "DECISION MAKING\n"
      ]
    },
    {
      "cell_type": "code",
      "execution_count": null,
      "metadata": {
        "id": "2Nx-yFfSq_bM"
      },
      "outputs": [],
      "source": [
        "# what is decision making ?\n",
        "# ===> The or process of deciding something\n",
        "# ===> Bsaic on certain criteria or conditions\n"
      ]
    },
    {
      "cell_type": "markdown",
      "metadata": {
        "id": "yHgS25Pr1c1U"
      },
      "source": [
        "# Condational Statements"
      ]
    },
    {
      "cell_type": "code",
      "execution_count": null,
      "metadata": {
        "id": "ONYyHxm11bbc"
      },
      "outputs": [],
      "source": [
        "# The most common conditional statements used for decision-making in programming are\n",
        "# ==> if\n",
        "# ==> if-else\n",
        "# ==> if-elif==>\n",
        "# ==> if-elif-else\n",
        "\n",
        "\n",
        "# switch-case"
      ]
    },
    {
      "cell_type": "code",
      "execution_count": null,
      "metadata": {
        "colab": {
          "base_uri": "https://localhost:8080/"
        },
        "id": "K15UzwVSLfsF",
        "outputId": "3520f3cd-2d1b-4c92-d3bb-a937c42ba9d5"
      },
      "outputs": [
        {
          "name": "stdout",
          "output_type": "stream",
          "text": [
            "you can play with your favorite toy\n",
            "have fun\n"
          ]
        }
      ],
      "source": [
        "# ==> if\n",
        "# ==> if ==> coad to be executed if the condition is true\n",
        "# SYNTEX : The condation is expression that evaluates to either thrue or false . if the condatioal is true , the indented block of coad under the if statement is executed;otherwiseit is skipped\n",
        "A  = \"sunny\"\n",
        "if A == \"sunny\":\n",
        "   print(\"you can play with your favorite toy\")\n",
        "print(\"have fun\")"
      ]
    },
    {
      "cell_type": "code",
      "execution_count": null,
      "metadata": {
        "colab": {
          "base_uri": "https://localhost:8080/"
        },
        "id": "i8Mg2hDeNg2G",
        "outputId": "cf84be28-03ed-4d66-f6b5-66fc27f388b2"
      },
      "outputs": [
        {
          "name": "stdout",
          "output_type": "stream",
          "text": [
            "you can play with your favorite toy\n",
            "have fun\n",
            "coad is end hear!!!\n"
          ]
        }
      ],
      "source": [
        "# ==> if else statements\n",
        "# ==> if ==> coad to be executed if the condition is true\n",
        "# ==>  else  ==> code to be executed if the condition is false\n",
        "# syntex : if the condation is true, the coce block under the if branch is executed, and the code blocvk under the else branch is skipped.\n",
        "#===> if the condition is false the code block under the else branch is executed and the code block under the if branch is skipped.\n",
        "\n",
        "A  = \"sunny\"\n",
        "if A == \"sunny\":\n",
        "   print(\"you can play with your favorite toy\")\n",
        "   print(\"have fun\")\n",
        "else:\n",
        "  print(\"roboot\")\n",
        "print(\"coad is end hear!!!\")"
      ]
    },
    {
      "cell_type": "code",
      "execution_count": null,
      "metadata": {
        "colab": {
          "base_uri": "https://localhost:8080/"
        },
        "id": "DdHrZp17P39n",
        "outputId": "17bb862a-2e4f-436b-eabb-8926ec0f89b3"
      },
      "outputs": [
        {
          "name": "stdout",
          "output_type": "stream",
          "text": [
            "its not sunny, so you can play with a different toy.\n",
            "enjoy your day\n"
          ]
        }
      ],
      "source": [
        "w = \"ranny\"\n",
        "if w == \"sunny\":\n",
        "   print (\"you can play with your car toy!\")\n",
        "else:\n",
        "  print(\"its not sunny, so you can play with a different toy.\")\n",
        "print(\"enjoy your day\")"
      ]
    },
    {
      "cell_type": "code",
      "execution_count": null,
      "metadata": {
        "colab": {
          "base_uri": "https://localhost:8080/"
        },
        "id": "zLh1CczJT82L",
        "outputId": "b01c7c46-2ba4-4685-9f93-80868666fbd3"
      },
      "outputs": [
        {
          "name": "stdout",
          "output_type": "stream",
          "text": [
            "Given w :sunny\n",
            "play cricket\n",
            "code ended here!!!\n"
          ]
        }
      ],
      "source": [
        "# if - elif - else statement\n",
        "# ==> if ==> coad to be executed if the condition is true\n",
        "# ==> elif==> code to be executed if condition 2 is true\n",
        "# ==> elif==> code to be executed if condition 3 is true\n",
        "# ==>  else  ==> code to be executed if the condition is false\n",
        "\n",
        "w = input(\"Given w :\")\n",
        "\n",
        "if w == \"sunny\":\n",
        "  print(\"play cricket\")\n",
        "elif w== \"rainey\":\n",
        "  print(\"play indoor games its rainy\")\n",
        "else:\n",
        "  print(\"robot\")\n",
        "print(\"code ended here!!!\")"
      ]
    },
    {
      "cell_type": "code",
      "execution_count": null,
      "metadata": {
        "colab": {
          "base_uri": "https://localhost:8080/"
        },
        "id": "DFo653x3WXli",
        "outputId": "40b9913a-af97-4234-c81b-e879d2127296"
      },
      "outputs": [
        {
          "name": "stdout",
          "output_type": "stream",
          "text": [
            "Given w :Heavy rain\n",
            "stay home \n",
            "code ended here!!!\n"
          ]
        }
      ],
      "source": [
        "w = input(\"Given w :\")\n",
        "\n",
        "if w == \"sunny\":\n",
        "  print(\"play cricket\")\n",
        "elif w== \"rainey\":\n",
        "  print(\"play indoor games its rainy\")\n",
        "elif w==\"Heavy rain\":\n",
        "  print(\"stay home \")\n",
        "else:\n",
        "  print(\"robot\")\n",
        "print(\"code ended here!!!\")"
      ]
    },
    {
      "cell_type": "code",
      "execution_count": null,
      "metadata": {
        "colab": {
          "base_uri": "https://localhost:8080/"
        },
        "id": "RUAt0OupWv7q",
        "outputId": "1625e670-cdcb-46ab-d3b8-58c3d0ba9e5d"
      },
      "outputs": [
        {
          "name": "stdout",
          "output_type": "stream",
          "text": [
            "you can play with your teddy bear toy.\n",
            "stay warm and have a great time!\n"
          ]
        }
      ],
      "source": [
        "weather = \"snowy\"\n",
        "time_of_day = \"night\"\n",
        "\n",
        "if weather == \"sunny\":\n",
        "  print(\"you can play with your car toy.\")\n",
        "elif weather == \"rainy\":\n",
        "  print(\"you can play with your boat toy.\")\n",
        "elif weather == \"snowy\"and time_of_day == \"night\":\n",
        "  print(\"you can play with your teddy bear toy.\")\n",
        "\n",
        "else:\n",
        "  print(\"you can play with your snowman toy.\")\n",
        "print(\"stay warm and have a great time!\")"
      ]
    },
    {
      "cell_type": "code",
      "execution_count": null,
      "metadata": {
        "colab": {
          "base_uri": "https://localhost:8080/"
        },
        "id": "zcq58eJ3ZVvf",
        "outputId": "42bef330-2cf6-40a6-cfa8-0d74c4f46a5b"
      },
      "outputs": [
        {
          "name": "stdout",
          "output_type": "stream",
          "text": [
            "its night time to sleep.\n"
          ]
        }
      ],
      "source": [
        "weather = \"sunny\"\n",
        "time_of_day = \"night\"\n",
        "\n",
        "if weather == \"sunny\":\n",
        "   if time_of_day == \"day\":\n",
        "      print(\"you play with your car toy.\")\n",
        "   else:\n",
        "      print(\"its night time to sleep.\")\n",
        "elif weather == \"rainy\":\n",
        "  print(\"you play with your boat toy\")\n",
        "elif weather == \"snowy\":\n",
        "  if time_of_day == \"night\":\n",
        "    print(\"you play with your teddy bear toy.\")\n",
        "  else:\n",
        "    print(\"you play with your snowman toy,\")\n",
        "else:\n",
        "  print(\"you stay inside and read a storybook\")\n"
      ]
    },
    {
      "cell_type": "markdown",
      "metadata": {
        "id": "gAYv4G7UuMsx"
      },
      "source": [
        "# Simple Calculator Program (project)"
      ]
    },
    {
      "cell_type": "code",
      "execution_count": null,
      "metadata": {
        "colab": {
          "base_uri": "https://localhost:8080/"
        },
        "id": "Jt4UjGCTd84I",
        "outputId": "356f0765-702e-4c5c-c979-7ac14d87c77e"
      },
      "outputs": [
        {
          "name": "stdout",
          "output_type": "stream",
          "text": [
            "Give 1st Number23\n",
            "Give 2nd Number25\n",
            "Give operator*\n",
            "Multiplication of 2 numbers is {num_1 * num_2}\n"
          ]
        }
      ],
      "source": [
        "#==> Create a basic calculagtor program that performs addition ,subtraction, multiplication and division\n",
        "#==> Ask the user to enter two number and choose an operation.\n",
        "#==> Display the result accordingly.\n",
        "#==> Handle potential errors gracefully.\n",
        "\n",
        "\n",
        "num_1 = int(input(\"Give 1st Number\"))\n",
        "num_2 = int(input(\"Give 2nd Number\"))\n",
        "operator = input(\"Give operator\")\n",
        "\n",
        "\n",
        "if operator == \"+\":\n",
        "  print(\"Addation of 2 numbers is {num_1 + num_2}\")\n",
        "elif operator == \"-\":\n",
        "  print(\"Subtraction of 2 numbers is {num_1 - num_2}\")\n",
        "elif operator == \"*\":\n",
        "  print(\"Multiplication of 2 numbers is {num_1 * num_2}\")\n",
        "elif operator == \"/\":\n",
        "  print(\"Division of 2 numbers is {num_1 / num_2}\")\n",
        "  print(num_1 / num_2)\n",
        "else:\n",
        "  print(\"not valid\")"
      ]
    },
    {
      "cell_type": "code",
      "execution_count": null,
      "metadata": {
        "colab": {
          "base_uri": "https://localhost:8080/"
        },
        "id": "SegDheshzJK1",
        "outputId": "56252888-a139-4a06-ca92-c067c07384a1"
      },
      "outputs": [
        {
          "name": "stdout",
          "output_type": "stream",
          "text": [
            "enter your marks:45\n",
            "C\n"
          ]
        }
      ],
      "source": [
        "passing_marks = 40\n",
        "total_marks = 100\n",
        "a = int(input(\"enter your marks:\"))\n",
        "if  a >= 90 and  a <= 100:\n",
        "    print(\"A+\")\n",
        "elif  a >= 80 and  a <= 90:\n",
        "    print(\"A\")\n",
        "elif  a >= 70 and  a <= 80:\n",
        "    print(\"B+\")\n",
        "elif  a >= 60 and  a <=70:\n",
        "    print(\"B\")\n",
        "elif  a >= 50 and  a <= 60:\n",
        "    print(\"c+\")\n",
        "elif  a >= 40 and  a <= 50:\n",
        "    print(\"C\")\n",
        "elif  a >= 100:\n",
        "    print(\" invalid marks\")\n",
        "\n",
        "else :\n",
        "    print (\"better luck next time\")"
      ]
    },
    {
      "cell_type": "markdown",
      "metadata": {
        "id": "rb1j8c4F2G5B"
      },
      "source": [
        "# Strings"
      ]
    },
    {
      "cell_type": "code",
      "execution_count": null,
      "metadata": {
        "id": "-djyT24R0R4b"
      },
      "outputs": [],
      "source": [
        "# What is strings?\n",
        "# ==> Data type use to represent textual data .\n",
        "# ==> They are sequences of characters and are enclosed in either.\n",
        "\n",
        "#  single quotes (' '),\n",
        "#  double quotes (\" \"),\n",
        "#  triple quotes (\"\"\" \"\"\" or ''' ''')\n"
      ]
    },
    {
      "cell_type": "code",
      "execution_count": null,
      "metadata": {
        "id": "ghzkiylN3oYk"
      },
      "outputs": [],
      "source": [
        "# How to create string ?\n",
        "# ==> you can create string using single , double , or triple quotes.\n",
        "# ==> Triple quotes are used for multiline strings or to include special characters like line breaks.\n",
        "\n",
        "single_quoted = 'Hello,world!'\n",
        "double_quoted = \"Hello , world!\"\n",
        "multiline = ''' Hello,\n",
        "            world!\n",
        "            Welcome'''\n",
        "multiline = \"\"\" Hello,\n",
        "            world!\n",
        "            Welcome\"\"\""
      ]
    },
    {
      "cell_type": "code",
      "execution_count": null,
      "metadata": {
        "colab": {
          "base_uri": "https://localhost:8080/"
        },
        "id": "6IfW8A5g4_l4",
        "outputId": "5f4fe096-8101-42f4-8d36-d11d712be59e"
      },
      "outputs": [
        {
          "name": "stdout",
          "output_type": "stream",
          "text": [
            "Hello,world!\n"
          ]
        }
      ],
      "source": [
        "print(single_quoted)"
      ]
    },
    {
      "cell_type": "code",
      "execution_count": null,
      "metadata": {
        "id": "UF0gF6zI5MQe"
      },
      "outputs": [],
      "source": [
        "# STRING INDEXING:\n",
        "# ==> strings are ordered sequences, and you can access individual characters using indexing. Python uses zero-based indexing, where the first character has an index of 0.\n",
        "\n",
        "                     Str = \"PyTHON\"\n",
        "                     P  Y  T  H  O  N\n",
        "positive index ==>   0  1  2  3  4  5\n",
        "Negative index ==>  -6 -5 -4 -3 -2 -1\n"
      ]
    },
    {
      "cell_type": "code",
      "execution_count": null,
      "metadata": {
        "colab": {
          "base_uri": "https://localhost:8080/"
        },
        "id": "ypVJLtlm7Pa5",
        "outputId": "2663739c-2c7d-4256-a987-400359c596b2"
      },
      "outputs": [
        {
          "name": "stdout",
          "output_type": "stream",
          "text": [
            "python\n",
            "p\n",
            "t\n",
            "n\n",
            "h\n"
          ]
        }
      ],
      "source": [
        "str = \"python\"\n",
        "print(str)\n",
        "print(str[0])\n",
        "print(str[2])\n",
        "print(str[-1])\n",
        "print(str[-3])"
      ]
    },
    {
      "cell_type": "code",
      "execution_count": null,
      "metadata": {
        "colab": {
          "base_uri": "https://localhost:8080/"
        },
        "id": "0x3KDA5386c8",
        "outputId": "7bffb610-4265-453a-8446-8900723cea5b"
      },
      "outputs": [
        {
          "name": "stdout",
          "output_type": "stream",
          "text": [
            "y\n"
          ]
        }
      ],
      "source": [
        "print(str[1])"
      ]
    },
    {
      "cell_type": "code",
      "execution_count": null,
      "metadata": {
        "colab": {
          "base_uri": "https://localhost:8080/"
        },
        "id": "kJx9yJ6Y9xWn",
        "outputId": "14baca13-2bab-4158-9a49-6501a1764e4a"
      },
      "outputs": [
        {
          "name": "stdout",
          "output_type": "stream",
          "text": [
            "n\n"
          ]
        }
      ],
      "source": [
        "print(str[-1])"
      ]
    },
    {
      "cell_type": "code",
      "execution_count": null,
      "metadata": {
        "colab": {
          "base_uri": "https://localhost:8080/"
        },
        "id": "hXCfVZWb91Eu",
        "outputId": "ed4da5ba-253e-4fb1-a139-145498e15831"
      },
      "outputs": [
        {
          "name": "stdout",
          "output_type": "stream",
          "text": [
            "yt\n"
          ]
        }
      ],
      "source": [
        "print(str[1:3])"
      ]
    },
    {
      "cell_type": "code",
      "execution_count": null,
      "metadata": {
        "colab": {
          "base_uri": "https://localhost:8080/"
        },
        "id": "1pP7UH9094J_",
        "outputId": "75bf9d4f-8a67-4afd-a5f4-ef0d3142f21e"
      },
      "outputs": [
        {
          "name": "stdout",
          "output_type": "stream",
          "text": [
            "ytho\n"
          ]
        }
      ],
      "source": [
        "print(str[1:-1])"
      ]
    },
    {
      "cell_type": "code",
      "execution_count": null,
      "metadata": {
        "colab": {
          "base_uri": "https://localhost:8080/"
        },
        "id": "LC53X7cx-Dcm",
        "outputId": "9c5acf03-96c8-41bd-f53e-201d78e4b33b"
      },
      "outputs": [
        {
          "name": "stdout",
          "output_type": "stream",
          "text": [
            "pyt\n"
          ]
        }
      ],
      "source": [
        "print(str[:3])"
      ]
    },
    {
      "cell_type": "code",
      "execution_count": null,
      "metadata": {
        "colab": {
          "base_uri": "https://localhost:8080/"
        },
        "id": "zMBLUMNI-KVZ",
        "outputId": "cbe43f69-ce47-43b1-db2f-24e8def2681b"
      },
      "outputs": [
        {
          "name": "stdout",
          "output_type": "stream",
          "text": [
            "thon\n"
          ]
        }
      ],
      "source": [
        "print(str[2:])"
      ]
    },
    {
      "cell_type": "code",
      "execution_count": null,
      "metadata": {
        "colab": {
          "base_uri": "https://localhost:8080/"
        },
        "id": "tWqNCYla-Qff",
        "outputId": "44dce546-f1cd-436b-8590-505564e5740d"
      },
      "outputs": [
        {
          "name": "stdout",
          "output_type": "stream",
          "text": [
            "pytho\n"
          ]
        }
      ],
      "source": [
        "print(str[:-1])"
      ]
    },
    {
      "cell_type": "code",
      "execution_count": null,
      "metadata": {
        "colab": {
          "base_uri": "https://localhost:8080/"
        },
        "id": "tGXf6EaO-XkC",
        "outputId": "a8fa4718-5382-4e26-ce65-c08c37e50de0"
      },
      "outputs": [
        {
          "name": "stdout",
          "output_type": "stream",
          "text": [
            "pto\n"
          ]
        }
      ],
      "source": [
        "print(str[::2])"
      ]
    },
    {
      "cell_type": "code",
      "execution_count": null,
      "metadata": {
        "colab": {
          "base_uri": "https://localhost:8080/"
        },
        "id": "XS4d8yfG-fN3",
        "outputId": "b0353103-f324-4087-eaa7-637f30c1e13d"
      },
      "outputs": [
        {
          "name": "stdout",
          "output_type": "stream",
          "text": [
            "yhn\n"
          ]
        }
      ],
      "source": [
        "print(str[1::2])"
      ]
    },
    {
      "cell_type": "code",
      "execution_count": null,
      "metadata": {
        "colab": {
          "base_uri": "https://localhost:8080/"
        },
        "id": "kfUDr8-v-orO",
        "outputId": "20a778e4-3fc0-42a2-f79e-4e787778630f"
      },
      "outputs": [
        {
          "name": "stdout",
          "output_type": "stream",
          "text": [
            "nohtyp\n"
          ]
        }
      ],
      "source": [
        "print(str[::-1])"
      ]
    },
    {
      "cell_type": "code",
      "execution_count": null,
      "metadata": {
        "colab": {
          "base_uri": "https://localhost:8080/"
        },
        "id": "E2ss5VNu-tm7",
        "outputId": "cac5e352-76c2-4ba8-bc80-ed4a08ac8942"
      },
      "outputs": [
        {
          "name": "stdout",
          "output_type": "stream",
          "text": [
            "<class 'reversed'>\n"
          ]
        }
      ],
      "source": [
        "print(str(reversed))"
      ]
    },
    {
      "cell_type": "code",
      "execution_count": null,
      "metadata": {
        "colab": {
          "base_uri": "https://localhost:8080/"
        },
        "id": "DsDb3ZlE-4rV",
        "outputId": "4ef4da8d-e944-4466-d912-e93290e3267d"
      },
      "outputs": [
        {
          "name": "stdout",
          "output_type": "stream",
          "text": [
            "John_Doe\n"
          ]
        }
      ],
      "source": [
        "# String Concatenation\n",
        "# you can concatenate string using the + operator:\n",
        "first_name = \"John\"\n",
        "last_name = \"Doe\"\n",
        "full_name = first_name + \"_\" + last_name\n",
        "print(full_name)"
      ]
    },
    {
      "cell_type": "code",
      "execution_count": null,
      "metadata": {
        "colab": {
          "base_uri": "https://localhost:8080/"
        },
        "id": "hvRHDhzst39-",
        "outputId": "5461a5d7-7dc7-4750-f3d4-acde159b55cf"
      },
      "outputs": [
        {
          "name": "stdout",
          "output_type": "stream",
          "text": [
            "14\n"
          ]
        }
      ],
      "source": [
        "# String Length\n",
        "# you can find the length of a string using the len() function:\n",
        "# ex:--\n",
        "string1 = \"coding is fun!\"\n",
        "print(len(string1))"
      ]
    },
    {
      "cell_type": "code",
      "execution_count": null,
      "metadata": {
        "colab": {
          "base_uri": "https://localhost:8080/"
        },
        "id": "MyNXKzHPugxX",
        "outputId": "ed4e00f4-8e2f-48bc-daa2-e1035ee5cf3f"
      },
      "outputs": [
        {
          "name": "stdout",
          "output_type": "stream",
          "text": [
            "13\n"
          ]
        }
      ],
      "source": [
        "string2 = \"Hello, World!\"\n",
        "print(len(string2))"
      ]
    },
    {
      "cell_type": "code",
      "execution_count": null,
      "metadata": {
        "colab": {
          "base_uri": "https://localhost:8080/"
        },
        "id": "a_w1weNnvAWq",
        "outputId": "2930e932-9dbb-411a-cfab-4fb9237d8d34"
      },
      "outputs": [
        {
          "name": "stdout",
          "output_type": "stream",
          "text": [
            "12\n"
          ]
        }
      ],
      "source": [
        "string3 = \" abcdefghijk\"\n",
        "print(len(string3))"
      ]
    },
    {
      "cell_type": "code",
      "execution_count": null,
      "metadata": {
        "colab": {
          "base_uri": "https://localhost:8080/"
        },
        "id": "fnDOvi-FvZLk",
        "outputId": "a4e502bb-0f47-48a9-be73-298b85a5d00a"
      },
      "outputs": [
        {
          "name": "stdout",
          "output_type": "stream",
          "text": [
            "44\n"
          ]
        }
      ],
      "source": [
        "string4 = \"The quick brown fox jumps over the lazy dog.\"\n",
        "print(len(string4))"
      ]
    },
    {
      "cell_type": "code",
      "execution_count": null,
      "metadata": {
        "id": "PAl9EgbavtvW"
      },
      "outputs": [],
      "source": [
        "# STRING METHODS\n",
        "# python provides numerous built-in methods for manipulating strings, such as converting cases, removing whitespaces, replacing characters, splitting, joining, and more."
      ]
    },
    {
      "cell_type": "code",
      "execution_count": null,
      "metadata": {
        "colab": {
          "base_uri": "https://localhost:8080/"
        },
        "id": "gevyNYBhFslI",
        "outputId": "b0f85f1c-91c2-4543-e48f-c003e4b9fca7"
      },
      "outputs": [
        {
          "name": "stdout",
          "output_type": "stream",
          "text": [
            "HELLOW, WORLD!\n",
            "hellow, world!\n"
          ]
        }
      ],
      "source": [
        "# python string manipulation Example\n",
        "\n",
        "# Define the original string\n",
        "\n",
        "s = \"Hellow, world!\"\n",
        "\n",
        "# Convert the string to uppercase\n",
        "print(s.upper())\n",
        "\n",
        "# convert the string to lowercase\n",
        "print(s.lower())"
      ]
    },
    {
      "cell_type": "code",
      "execution_count": null,
      "metadata": {
        "colab": {
          "base_uri": "https://localhost:8080/"
        },
        "id": "YIFBAfD6Gpgb",
        "outputId": "b9fb54b5-5d19-4391-d8a2-c02497c08bf7"
      },
      "outputs": [
        {
          "name": "stdout",
          "output_type": "stream",
          "text": [
            "Hellow, world!\n"
          ]
        }
      ],
      "source": [
        "# Remove leadind and trailing whitespaces from the string\n",
        "print(s.strip())"
      ]
    },
    {
      "cell_type": "code",
      "execution_count": null,
      "metadata": {
        "colab": {
          "base_uri": "https://localhost:8080/"
        },
        "id": "r0ttQ_0RG6Ij",
        "outputId": "4eee933b-6718-47da-9fb7-683bbf40164c"
      },
      "outputs": [
        {
          "name": "stdout",
          "output_type": "stream",
          "text": [
            "Hellxw, wxrld!\n"
          ]
        }
      ],
      "source": [
        "# Replace all occurrences of 'o' with 'x' in the string\n",
        "print(s.replace('o', 'x'))"
      ]
    },
    {
      "cell_type": "code",
      "execution_count": null,
      "metadata": {
        "colab": {
          "base_uri": "https://localhost:8080/"
        },
        "id": "X2pnlghyHXm4",
        "outputId": "73f48a0e-315c-4ccd-d019-abbce660d3bb"
      },
      "outputs": [
        {
          "name": "stdout",
          "output_type": "stream",
          "text": [
            "4\n"
          ]
        }
      ],
      "source": [
        "#count the numer of occurrences of 'a' in the string\n",
        "print('Abracadabra'.count('a'))"
      ]
    },
    {
      "cell_type": "code",
      "execution_count": null,
      "metadata": {
        "colab": {
          "base_uri": "https://localhost:8080/"
        },
        "id": "qyevxpNZHyTS",
        "outputId": "95f28b3d-6dda-4d2b-e695-8a757c490a95"
      },
      "outputs": [
        {
          "name": "stdout",
          "output_type": "stream",
          "text": [
            "2\n"
          ]
        }
      ],
      "source": [
        "print(s.count('o'))"
      ]
    },
    {
      "cell_type": "code",
      "execution_count": null,
      "metadata": {
        "colab": {
          "base_uri": "https://localhost:8080/"
        },
        "id": "19fVHldVH70m",
        "outputId": "033897af-8db7-4f72-d3f2-a4dc313dbb8e"
      },
      "outputs": [
        {
          "name": "stdout",
          "output_type": "stream",
          "text": [
            "HELLOW, WORLD!\n",
            "hellow, world!\n",
            "Hellow, world!\n",
            "Hellow, World!\n",
            "Hellow, world!\n",
            "Hellow, world!\n",
            "Hellow, world!\n"
          ]
        }
      ],
      "source": [
        "# STRING METHODS\n",
        "print(s.upper())\n",
        "print(s.lower())\n",
        "print(s.capitalize())\n",
        "print(s.title())\n",
        "print(s.strip())\n",
        "print(s.lstrip())\n",
        "print(s.rstrip())\n"
      ]
    },
    {
      "cell_type": "code",
      "execution_count": null,
      "metadata": {
        "colab": {
          "base_uri": "https://localhost:8080/"
        },
        "id": "lQOt9nsqJPbV",
        "outputId": "6fe56b85-a19f-4c53-ba75-97de1b8df77d"
      },
      "outputs": [
        {
          "name": "stdout",
          "output_type": "stream",
          "text": [
            "MY name is john Doe amd my age is 45\n"
          ]
        }
      ],
      "source": [
        "# STRING FORMATTING:\n",
        "#==> python supports multiple ways of formatting strings,including old-style % formatting, str.format(),and f-strings(formatted string literals).\n",
        "print(\"MY name is %s %s amd my age is %d\"%(\"john\", \"Doe\", 45))"
      ]
    },
    {
      "cell_type": "code",
      "execution_count": null,
      "metadata": {
        "colab": {
          "base_uri": "https://localhost:8080/"
        },
        "id": "mFmqDrFBKswR",
        "outputId": "21f80884-e412-40a5-c57b-0a3f9ae67a02"
      },
      "outputs": [
        {
          "name": "stdout",
          "output_type": "stream",
          "text": [
            "My name is ALice and Iam 30 years old.\n"
          ]
        }
      ],
      "source": [
        "name = \"ALice\"\n",
        "age = 30\n",
        "# Using the '%' operator for string formatting (old-style)\n",
        "print(\"My name is %s and Iam %d years old.\"% (name,age))"
      ]
    },
    {
      "cell_type": "code",
      "execution_count": null,
      "metadata": {
        "colab": {
          "base_uri": "https://localhost:8080/"
        },
        "id": "kw78x-2VLqLy",
        "outputId": "a1a586f3-7e15-40d8-f792-08db369e74bb"
      },
      "outputs": [
        {
          "name": "stdout",
          "output_type": "stream",
          "text": [
            "My name is ALice and Iam 30 years old.\n"
          ]
        }
      ],
      "source": [
        "# Using the 'format()' method for string formatting\n",
        "print(\"My name is {} and Iam {} years old.\" . format(name, age))\n"
      ]
    },
    {
      "cell_type": "code",
      "execution_count": null,
      "metadata": {
        "colab": {
          "base_uri": "https://localhost:8080/"
        },
        "id": "c0ylY_IFMO3e",
        "outputId": "df1c1db0-2c90-4018-f40d-a39e3cdda9af"
      },
      "outputs": [
        {
          "name": "stdout",
          "output_type": "stream",
          "text": [
            "My name is ALice and iam 30 years old.\n"
          ]
        }
      ],
      "source": [
        "# Using the f-string (formatted string liters ) for string formatting (python)\n",
        "print(f\"My name is {name} and iam {age} years old.\")"
      ]
    },
    {
      "cell_type": "code",
      "execution_count": null,
      "metadata": {
        "id": "vAj2TD3pqHDE"
      },
      "outputs": [],
      "source": [
        "# ESCAPE SEQUENCES:\n",
        "#==> Special character combination that are used to represent characters that are otherwise difficult or impossible to include directly in a string\n",
        "# /b ==> backspace(moves the cursor back one space)\n",
        "# \\f ==> from feed (used for some texr file formats)\n",
        "# \\n ==> newline(line break)\n",
        "# \\r ==> carriage return (use for some text file formates)\n",
        "# \\' ==> single quote\n",
        "# \\t ==> tap\n",
        "# \\\" ==> double quote\n",
        "# \\\\ ==> backslash\n"
      ]
    },
    {
      "cell_type": "code",
      "execution_count": null,
      "metadata": {
        "id": "8Gi1qUq6rVXi"
      },
      "outputs": [],
      "source": [
        "# VOWEL COUNTER:\n",
        "# write a program that takes a string input from the user and counts the number of vowels (A,E,I.O,U and their lowercases equivalents ) in the string\n",
        "#  sample input : \"Hello, world!\"\n",
        "# sample output : Number of vowels: 3"
      ]
    },
    {
      "cell_type": "code",
      "execution_count": null,
      "metadata": {
        "colab": {
          "base_uri": "https://localhost:8080/"
        },
        "id": "_n4RmZs-v4tR",
        "outputId": "8bfe51b3-7b73-4266-dd45-815fa73448dd"
      },
      "outputs": [
        {
          "name": "stdout",
          "output_type": "stream",
          "text": [
            "u\n",
            "Number of vowels:1\n"
          ]
        }
      ],
      "source": [
        "s = input()\n",
        "s2 = s.lower()\n",
        "a = s2.count('a')\n",
        "e = s2.count('e')\n",
        "i = s2.count('i')\n",
        "o = s2.count('o')\n",
        "u = s2.count('u')\n",
        "print(f\"Number of vowels:{a+e+i+o+u}\")"
      ]
    },
    {
      "cell_type": "code",
      "execution_count": null,
      "metadata": {
        "id": "xVa3npe6w3wn"
      },
      "outputs": [],
      "source": [
        "# GRADE CLACULATOR :\n",
        "# Create a program that takes the marks of a students in different subjects as input.\n",
        "# Claculate the total marks and average, and the display the corresponding grade based on the average.\n",
        "# Simple input : marks in math :85,\n",
        "#                marks in science : 90,\n",
        "#                marks in english : 78\n",
        "\n",
        "# simple output : Total Marks : 253,\n",
        "#                 Averrage Marks : 84.33,\n",
        "#                 Grade : A"
      ]
    },
    {
      "cell_type": "code",
      "execution_count": null,
      "metadata": {
        "colab": {
          "base_uri": "https://localhost:8080/"
        },
        "id": "4fFiqoC9yBLN",
        "outputId": "193d9b77-2547-468b-d74b-b34358f1f971"
      },
      "outputs": [
        {
          "name": "stdout",
          "output_type": "stream",
          "text": [
            "Marks in Math:85\n",
            "Marks in science:90\n",
            "Marks in english:78\n",
            "Total Marks:253\n",
            "Average Marks:84.33333333333333\n",
            "Grade:B\n"
          ]
        }
      ],
      "source": [
        "m = int(input(\"Marks in Math:\"))\n",
        "s = int(input(\"Marks in science:\"))\n",
        "e = int(input(\"Marks in english:\"))\n",
        "total_marks = m+s+e\n",
        "average = total_marks/3\n",
        "Percentage = (total_marks/300)*100\n",
        "grade = \"\"\n",
        "\n",
        "if Percentage > 90:\n",
        "  grade = \"A\"\n",
        "elif Percentage > 80:\n",
        "  grade = \"B\"\n",
        "elif Percentage > 70:\n",
        "  grade = \"c\"\n",
        "elif Percentage > 60:\n",
        "  grade = \"D\"\n",
        "elif Percentage > 50:\n",
        "  grade = \"E\"\n",
        "elif Percentage > 40:\n",
        "  grade = \"F\"\n",
        "else:\n",
        "  grade = \"G\"\n",
        "print(f\"Total Marks:{total_marks}\\nAverage Marks:{average}\\nGrade:{grade}\")"
      ]
    },
    {
      "cell_type": "code",
      "execution_count": null,
      "metadata": {
        "id": "w9ZX7OF05oyi"
      },
      "outputs": [],
      "source": [
        "# PALINDROME CHECKER:\n",
        "# write a program that takes a string input from the user and checks if it is a palindrome or not.\n",
        "# Apalindrome is a word,phrase,number,or sequence of characters that reads the same backeard as forward.\n",
        "\n",
        "# simple input: \"radar\"\n",
        "\n",
        "# sample output: it is a palindrome"
      ]
    },
    {
      "cell_type": "code",
      "execution_count": null,
      "metadata": {
        "colab": {
          "base_uri": "https://localhost:8080/"
        },
        "id": "YRyFs8lY6Jaj",
        "outputId": "b8a77281-d30d-42d6-ac56-f04e88ed42dc"
      },
      "outputs": [
        {
          "name": "stdout",
          "output_type": "stream",
          "text": [
            "Give a string:mom\n",
            "it is a palidrome.\n"
          ]
        }
      ],
      "source": [
        "s = input(\"Give a string:\")\n",
        "reverse = s[::-1]\n",
        "\n",
        "if reverse == s:\n",
        "  print(\"it is a palidrome.\")\n",
        "else:\n",
        "  print(\"it is a palidrome.\")"
      ]
    },
    {
      "cell_type": "code",
      "execution_count": null,
      "metadata": {
        "colab": {
          "base_uri": "https://localhost:8080/"
        },
        "id": "nS1aC0-Q8f_d",
        "outputId": "53e782d0-62cf-4ea8-eead-329bdf79cd69"
      },
      "outputs": [
        {
          "name": "stdout",
          "output_type": "stream",
          "text": [
            "Give a string:mass\n",
            "it is a palidrome.\n"
          ]
        }
      ],
      "source": [
        "s = input(\"Give a string:\")\n",
        "reverse = s[::-1]\n",
        "\n",
        "if reverse == s:\n",
        "  print(\"it is a palidrome.\")\n",
        "else:\n",
        "  print(\"it is a palidrome.\")"
      ]
    },
    {
      "cell_type": "code",
      "execution_count": null,
      "metadata": {
        "colab": {
          "base_uri": "https://localhost:8080/"
        },
        "id": "80cPnLkn-OII",
        "outputId": "3c2f077f-11ea-4934-f876-00444585e668"
      },
      "outputs": [
        {
          "name": "stdout",
          "output_type": "stream",
          "text": [
            "15,8,21\n",
            "21\n"
          ]
        }
      ],
      "source": [
        "# LARGEST OF THREE NUMBERS\n",
        "#write a program that takes three numbers as input and finds the largest amoung them using decision-making statements.\n",
        "\n",
        "# Sample input : Enter three numbers:15,8,21\n",
        "# sample input : The largest number is 21.\n",
        "\n",
        "\n",
        "a = input()\n",
        "\n",
        "x,y,z = a.split(\",\")\n",
        "\n",
        "num1 = int(x)\n",
        "num2 = int(y)\n",
        "num3 = int(z)\n",
        "grate = 0\n",
        "if num1 > num2:\n",
        "  if num2 > num3:\n",
        "    great = num2\n",
        "  else:\n",
        "    great = num3\n",
        "elif num2 > num1:\n",
        "  if num2 > num3:\n",
        "    great = num2\n",
        "  else:\n",
        "    great = num3\n",
        "elif num3 > num1:\n",
        "  if num3 > num2:\n",
        "    great = num3\n",
        "  else:\n",
        "    great = num2\n",
        "print(great)"
      ]
    },
    {
      "cell_type": "code",
      "execution_count": null,
      "metadata": {
        "colab": {
          "base_uri": "https://localhost:8080/"
        },
        "id": "v-OBAQlWD0xG",
        "outputId": "3a65157c-ea27-446c-88e2-2bd6b1a53927"
      },
      "outputs": [
        {
          "name": "stdout",
          "output_type": "stream",
          "text": [
            "2016\n",
            "True\n"
          ]
        }
      ],
      "source": [
        "# LEAP YEAR CHECKER\n",
        "# Write a program that takes a year as input and checks if it is a leap year or not.\n",
        "# HINT: ==> A leap year is divisible by 4, except for year that are divisible by 100 but not divisible by 400.\n",
        "\n",
        "# Sample input : Enter a year:2024\n",
        "\n",
        "# sample output : it is a leap year.\n",
        "\n",
        "year = int(input())\n",
        "\n",
        "leap = False\n",
        "\n",
        "if year%100 == 0 and year%400 != 0:\n",
        "  leap = False\n",
        "  print(\"it is a leap year\")\n",
        "elif year%4 == 0:\n",
        "  leap = True\n",
        "else:\n",
        "  leap = False\n",
        "print(leap)"
      ]
    },
    {
      "cell_type": "code",
      "execution_count": null,
      "metadata": {
        "id": "naWYB3YWHbD-"
      },
      "outputs": [],
      "source": [
        "# TEMPERATURE CONVERTER:\n",
        "# Build a temperature converter program that allow the user to convert temperatures between Celsius, kelvin and Fahrenheit.\n",
        "\n",
        "# sample input : Enter temperature:32\n",
        "#                Enter units(K or F or C):c\n",
        "\n",
        "# sample output : Temperature in Fahrenheit:89.6F\n",
        "#                 Temperature in Kelvin:305k"
      ]
    },
    {
      "cell_type": "markdown",
      "metadata": {
        "id": "EEwHOz_tH2G7"
      },
      "source": [
        "# LOOPS"
      ]
    },
    {
      "cell_type": "markdown",
      "metadata": {
        "id": "rRvHvLT8H-AP"
      },
      "source": [
        "## Recap of Decision Making"
      ]
    },
    {
      "cell_type": "code",
      "execution_count": null,
      "metadata": {
        "id": "fOyraw5cH6MK"
      },
      "outputs": [],
      "source": [
        "#==> Decision making helps the computer decide what to do based on certain conditions.\n",
        "\n",
        "# condation:==> Give chocolate to frind,if available in plate\n",
        "\n",
        "# LOOPS: Loops are used to execute a block of code repeatedly as long as a certain condition is true or for a specific number of iterations\n",
        "# types:==> 1) while, 2) for\n",
        "\n"
      ]
    },
    {
      "cell_type": "code",
      "execution_count": null,
      "metadata": {
        "colab": {
          "base_uri": "https://localhost:8080/"
        },
        "id": "LWBDSdHoLEsn",
        "outputId": "853ddca7-0c8e-44cd-c6bf-bc6fc021c63d"
      },
      "outputs": [
        {
          "name": "stdout",
          "output_type": "stream",
          "text": [
            "give a candy to a friend!\n",
            "give a candy to a friend!\n",
            "give a candy to a friend!\n",
            "give a candy to a friend!\n",
            "give a candy to a friend!\n",
            "give a candy to a friend!\n",
            "give a candy to a friend!\n",
            "give a candy to a friend!\n",
            "give a candy to a friend!\n",
            "give a candy to a friend!\n",
            "0\n"
          ]
        }
      ],
      "source": [
        "\n",
        "# while loop:==> The while loop executess a block of code as long as a specified condition is trust .\n",
        "#===> It  continuously checks the condition before each iteration and stops when the condition becomes false.\n",
        "# syntex:\n",
        "#   while condition:\n",
        "# code block to be executed repeatedly\n",
        "\n",
        "candies = 10\n",
        "while candies > 0 :\n",
        "  # give one candey to a friend\n",
        "  print(\"give a candy to a friend!\")\n",
        "\n",
        "  # Decreases the number of candies\n",
        "  candies -= 1\n",
        "\n",
        "while candies > 0 :\n",
        "  print(\"give a candy to a friend!\")\n",
        "\n",
        "  candies -= 1\n",
        "print(candies)"
      ]
    },
    {
      "cell_type": "code",
      "execution_count": null,
      "metadata": {
        "colab": {
          "base_uri": "https://localhost:8080/"
        },
        "id": "oL5M-kYQMMRp",
        "outputId": "aeef1136-8fcf-44e1-8892-d3c26d766abd"
      },
      "outputs": [
        {
          "name": "stdout",
          "output_type": "stream",
          "text": [
            "give a candy to a friend!\n",
            "give a candy to a friend!\n",
            "give a candy to a friend!\n",
            "give a candy to a friend!\n",
            "give a candy to a friend!\n",
            "give a candy to a friend!\n",
            "give a candy to a friend!\n",
            "give a candy to a friend!\n",
            "give a candy to a friend!\n",
            "give a candy to a friend!\n",
            "0\n"
          ]
        }
      ],
      "source": [
        "candies = 10\n",
        "while candies > 0 :\n",
        "  # give one candey to a friend\n",
        "  print(\"give a candy to a friend!\")\n",
        "\n",
        "  # Decreases the number of candies\n",
        "  candies -= 1\n",
        "\n",
        "while candies > 0 :\n",
        "  print(\"give a candy to a friend!\")\n",
        "\n",
        "  candies -= 1\n",
        "print(candies)"
      ]
    },
    {
      "cell_type": "code",
      "execution_count": null,
      "metadata": {
        "id": "1kPuOlVCWTHO"
      },
      "outputs": [],
      "source": []
    },
    {
      "cell_type": "markdown",
      "metadata": {
        "id": "W0RqY8PyWUkO"
      },
      "source": [
        "# FUNCTIONs\n",
        "```\n",
        "\n"
      ]
    },
    {
      "cell_type": "code",
      "execution_count": null,
      "metadata": {
        "id": "TmOVGfvgWgbm"
      },
      "outputs": [],
      "source": [
        "# FUNCTIONDS:\n",
        "#==>  Functions are block of organised, reusable code that perform a specific task/896*5665\n",
        "\n",
        "\n",
        "#==> Dividing a complex problem into smaller chunka makes our program easy to inderstand and reuse.\n",
        "#\n",
        "\n",
        "# Types:--\n",
        "#                            Library functions <== pre define <== FUNCTIONS ==> uder defined ==> user define functions,to reduce complexity of big program\n",
        "\n",
        "\n",
        "\n",
        "# Declaration / Defining\n",
        "#==> you define a function using the def key wored , followed by the function name, parentheses(), and a colon:\n",
        "\n",
        "\n",
        "# syntex\n",
        "#  def function_name(parameters):\n",
        "     # Functiomn body\n",
        "\n",
        "\n",
        "\n",
        "\n",
        "# Function call:\n",
        "# to execute a function and run the code inside it you call the function by using its name followed by parentheses().\n",
        "\n",
        "# syntex\n",
        "# function_name (arguments)\n",
        "\n",
        "# Parameters ans Arguments:\n",
        "# function can take input values known as parameters or arguments.\n",
        "\n",
        "# Parameters:\n",
        "# parameters are defined in the function's parentheses during the function definition.\n",
        "\n",
        "# Arguments:\n",
        "# Arguments are the actual values passed to the function when it is called.\n",
        "\n"
      ]
    },
    {
      "cell_type": "code",
      "execution_count": null,
      "metadata": {
        "colab": {
          "base_uri": "https://localhost:8080/"
        },
        "id": "FlofgmPNdAH_",
        "outputId": "4b7de175-2e71-4539-8d0f-64f18721f2d1"
      },
      "outputs": [
        {
          "name": "stdout",
          "output_type": "stream",
          "text": [
            "8\n"
          ]
        }
      ],
      "source": [
        " # Return Statement\n",
        " # ==>Functions can return a value using the return systement. the returned value can be assigned to a variable or used in expressions.\n",
        "\n",
        " def add(a,b):\n",
        "  return a + b\n",
        "\n",
        "result = add(3,5)\n",
        "print(result)"
      ]
    },
    {
      "cell_type": "code",
      "execution_count": null,
      "metadata": {
        "colab": {
          "background_save": true
        },
        "id": "5sScwZERgFK4"
      },
      "outputs": [],
      "source": [
        "# All at One Place\n",
        "\n",
        "#   def ==> keyword\n",
        "#   function_name ==> Function name\n",
        "#   (parameters):  ==> parameter\n",
        "\n",
        "# def function_name(parameters):\n",
        " def function_name(parameters):"
      ]
    },
    {
      "cell_type": "code",
      "execution_count": null,
      "metadata": {
        "id": "vplw0a46hNsN"
      },
      "outputs": [],
      "source": [
        "\n"
      ]
    },
    {
      "cell_type": "code",
      "execution_count": null,
      "metadata": {
        "colab": {
          "background_save": true
        },
        "id": "0QhcExfOhsR0"
      },
      "outputs": [],
      "source": []
    },
    {
      "cell_type": "markdown",
      "source": [
        "# LISTS"
      ],
      "metadata": {
        "id": "vL_iqCB3LEVr"
      }
    },
    {
      "cell_type": "code",
      "execution_count": null,
      "metadata": {
        "colab": {
          "background_save": true
        },
        "id": "BafeRia9iYY2"
      },
      "outputs": [],
      "source": [
        "# LIST:\n",
        "# ==> A list is a versatile and mutable data structure used to store a collection of items.\n",
        "\n",
        "#==> Defined using square brackets[]\n",
        "\n",
        "#==> contain elements of defferent data types\n",
        "\n",
        "#==> Allow duplicates."
      ]
    },
    {
      "cell_type": "markdown",
      "source": [
        "# TUPLE"
      ],
      "metadata": {
        "id": "ghuOHPhgWk4V"
      }
    },
    {
      "cell_type": "code",
      "execution_count": null,
      "metadata": {
        "id": "eu-jSD9tinrO"
      },
      "outputs": [],
      "source": [
        "# Tuple:\n",
        "# ==> tuple is northing but we have to store any type of data values like intreger, string, float, list\n",
        "\n",
        "# ex:==>  T = (20, 'Jessa', 35.75, [30,60,90])\n",
        "\n",
        "#==> A tuple is an ordered, immutable collection of elements in python.\n",
        "\n",
        "#==> It is similar to a list, but then main difference is that tuples connot be changed after creation.\n",
        "\n",
        "#==> Onec a tuple created , you cannot add, remove, or modify its elements.\n",
        "\n",
        "# CREATING TUPLE:\n",
        "# ==> to creat a tuple, you use parentheses() with elements separated by commas.\n",
        "\n",
        "my_tuple = ()\n",
        "# Tuple with elements\n",
        "\n",
        "my_tuple = (1, 2, 3)\n",
        "\n",
        "#NOTE: ==> Tuple can also be created without parentheses, using comma-sepatated values."
      ]
    },
    {
      "cell_type": "code",
      "execution_count": null,
      "metadata": {
        "id": "1TtBEqksjOGF",
        "colab": {
          "base_uri": "https://localhost:8080/"
        },
        "outputId": "296399ed-364e-4e5c-dc80-5326bdea3115"
      },
      "outputs": [
        {
          "output_type": "stream",
          "name": "stdout",
          "text": [
            "10\n"
          ]
        }
      ],
      "source": [
        "# ACCESSING VALUES:\n",
        "#==> You can access the valuess in a dictionary using square brackets[] with the key.\n",
        "\n",
        "my_tuple = (10,20,30)\n",
        "print(my_tuple[0])"
      ]
    },
    {
      "cell_type": "code",
      "execution_count": null,
      "metadata": {
        "id": "3psrvjs0jmFu",
        "colab": {
          "base_uri": "https://localhost:8080/"
        },
        "outputId": "681a9959-7bb9-4f59-ca48-09bb1a9698c8"
      },
      "outputs": [
        {
          "output_type": "stream",
          "name": "stdout",
          "text": [
            "2\n",
            "2\n"
          ]
        }
      ],
      "source": [
        "# METHODS:\n",
        "# Tuples have limited built-in methods due to their immutability.\n",
        "# Some common methods include count() and index().\n",
        "\n",
        "my_tuple= (1, 2, 3, 2)\n",
        "\n",
        "# count the occurrences of a value in the tuple\n",
        "count = my_tuple.count(2)\n",
        "print(count) # output:2\n",
        "\n",
        "# Find the index of the first occurrence of a value\n",
        "index = my_tuple.index(3)\n",
        "print(index)  # output: 2"
      ]
    },
    {
      "cell_type": "code",
      "source": [],
      "metadata": {
        "id": "RzctUHH2eSGg"
      },
      "execution_count": null,
      "outputs": []
    },
    {
      "cell_type": "markdown",
      "source": [
        "# SETs"
      ],
      "metadata": {
        "id": "rE_jbawdezak"
      }
    },
    {
      "cell_type": "code",
      "source": [
        "# What is A Set ?\n",
        "\n",
        "#==> Sets in python are an unordered collection of unique elements\n",
        "\n",
        "#==> Defined using curly braces {} or the Set()\n",
        "\n",
        "#==> Mutable\n",
        "\n",
        "#==> Duplicate elementas are automatically removed."
      ],
      "metadata": {
        "id": "PxNIyWJYe0-S"
      },
      "execution_count": null,
      "outputs": []
    },
    {
      "cell_type": "code",
      "source": [
        "# Creating Sets\n",
        "\n",
        "#==> Create a set by enclosing elements within curly braces{}.\n",
        "#==> Alternetively , You can use the set()\n",
        "\n",
        "# Creating an empty set\n",
        "empty_set = set()\n",
        "\n",
        "# Creating a set with elements\n",
        "fruits = {'apple','banana','cherry'}\n",
        "\n",
        "# Creating a set from a list\n",
        "number = set([1, 2, 3, 4, 5])"
      ],
      "metadata": {
        "id": "wU7oS7lZgAVB"
      },
      "execution_count": null,
      "outputs": []
    },
    {
      "cell_type": "code",
      "source": [
        "# Adding Elements:\n",
        "# ==> add() method to add a single element to a set\n",
        "\n",
        "my_set = {1,2}\n",
        "my_set.add(3)\n",
        "print(my_set)"
      ],
      "metadata": {
        "colab": {
          "base_uri": "https://localhost:8080/"
        },
        "id": "nRO79izUhCZH",
        "outputId": "2f2657c8-4945-4539-eb48-0ee347a325f4"
      },
      "execution_count": null,
      "outputs": [
        {
          "output_type": "stream",
          "name": "stdout",
          "text": [
            "{1, 2, 3}\n"
          ]
        }
      ]
    },
    {
      "cell_type": "code",
      "source": [
        "# Removing Elements:\n",
        "# ==> removing elements using the remove() or discard() methods.\n",
        "\n",
        "my_set = {1, 2, 3}\n",
        "my_set.remove(2)\n",
        "print(my_set)"
      ],
      "metadata": {
        "colab": {
          "base_uri": "https://localhost:8080/"
        },
        "id": "6XIWfjUUhuZy",
        "outputId": "ecf04dbf-9ced-42f4-96d2-3e55eebf5a87"
      },
      "execution_count": null,
      "outputs": [
        {
          "output_type": "stream",
          "name": "stdout",
          "text": [
            "{1, 3}\n"
          ]
        }
      ]
    },
    {
      "cell_type": "markdown",
      "source": [
        "## Set Operations"
      ],
      "metadata": {
        "id": "knRSE7N1igK2"
      }
    },
    {
      "cell_type": "code",
      "source": [
        "# Union\n",
        "# intersection\n",
        "# Difference\n",
        "# Symmetric difference"
      ],
      "metadata": {
        "id": "S32Q0xG9iWRy"
      },
      "execution_count": null,
      "outputs": []
    },
    {
      "cell_type": "code",
      "source": [
        "# set operations\n",
        "set1 = {1, 2, 3}\n",
        "set2 = {3, 4, 5}\n",
        "\n",
        "union_set = set1.union(set2)\n",
        "print(union_set)  # output: {1, 2, 3, 4, 5, 6}\n",
        "\n",
        "intersection_set = set1.intersection(set2)\n",
        "print(intersection_set)  # output:{3}\n",
        "\n",
        "difference_set = set1.difference(set2)\n",
        "print(difference_set)   # output: {1,2}\n",
        "\n",
        "symmetric_difference_set = set1.symmetric_difference(set2)\n",
        "print(symmetric_difference_set)  # output:{1, 2, 4, 5}"
      ],
      "metadata": {
        "colab": {
          "base_uri": "https://localhost:8080/"
        },
        "id": "ff3DWp8wjgJa",
        "outputId": "f9c75001-b8f8-4a77-c67f-a8ef18df4829"
      },
      "execution_count": null,
      "outputs": [
        {
          "output_type": "stream",
          "name": "stdout",
          "text": [
            "{1, 2, 3, 4, 5}\n",
            "{3}\n",
            "{1, 2}\n",
            "{1, 2, 4, 5}\n"
          ]
        }
      ]
    },
    {
      "cell_type": "code",
      "source": [
        "# Set Membership and Length:\n",
        "\n",
        "#==> You can check if an element is present in a set using the in keyword.\n",
        "#==> The len() function gives the number of elements in the set.\n",
        "\n",
        "my_set = {1, 2, 3}\n",
        "print(2 in my_set)   # output: True\n",
        "print(4 in my_set)   # output: False\n",
        "\n",
        "print(len(my_set))   # output: 3"
      ],
      "metadata": {
        "colab": {
          "base_uri": "https://localhost:8080/"
        },
        "id": "ATxfQurVk8fr",
        "outputId": "ee0d52c7-fc6e-4921-a8c8-8391c32f8818"
      },
      "execution_count": null,
      "outputs": [
        {
          "output_type": "stream",
          "name": "stdout",
          "text": [
            "True\n",
            "False\n",
            "3\n"
          ]
        }
      ]
    },
    {
      "cell_type": "code",
      "source": [
        "# Frozen sets:\n",
        "# A frozen sets is an immutable version of set\n",
        "\n",
        "my_set = {1, 2, 3}\n",
        "frozen_set = frozenset(my_set)"
      ],
      "metadata": {
        "id": "pLRTqszdmfpN"
      },
      "execution_count": null,
      "outputs": []
    },
    {
      "cell_type": "code",
      "source": [
        "# Set Comprehensions\n",
        "# Like list and dictionaries, sets also support comprehensions of concise set creation.\n",
        "\n",
        "# set comprehension to create a set of squates\n",
        "squares = {x**2 for x in range(1, 6)}  #output: {1, 4, 9, 16, 25}"
      ],
      "metadata": {
        "id": "JDf2mBd8nA6C"
      },
      "execution_count": null,
      "outputs": []
    },
    {
      "cell_type": "code",
      "source": [
        "# Set Methodes\n",
        "# ==> Some common set methodes include clear(), copy(), pop(), update(), etc.\n",
        "\n",
        "my_set = {1, 2, 3}\n",
        "my_set.clear()               #Removes all elements, resulting in an empty set\n",
        "new_set = my_set.copy()      #Creates a shallow copy of the set"
      ],
      "metadata": {
        "id": "_X570n8_n3cu"
      },
      "execution_count": null,
      "outputs": []
    },
    {
      "cell_type": "code",
      "source": [],
      "metadata": {
        "id": "LFdtz7Afo8jI"
      },
      "execution_count": null,
      "outputs": []
    },
    {
      "cell_type": "markdown",
      "source": [
        "# DICTIONARY"
      ],
      "metadata": {
        "id": "t6kF91GjpI1J"
      }
    },
    {
      "cell_type": "code",
      "source": [
        "# ==> key_1 : value_1\n",
        "#==> A dictonary is an unordered collection of key_value pairs.\n",
        "#==> Are used to store data in the form of key-value prints, where each key is unique.\n",
        "\n"
      ],
      "metadata": {
        "id": "oYL6NOuBpOxy"
      },
      "execution_count": null,
      "outputs": []
    },
    {
      "cell_type": "code",
      "source": [
        "# CREATING DICTIONARIES\n",
        "\n",
        "# ==> To craet a dictionary, you use curly braces{} and specify key-value pairs separated by colons:.\n",
        "# ==> Keys and values can be of any data type.\n",
        "\n",
        "# creating a dictionary with name,age, and house information\n",
        "\n",
        "my_dict = {'name': 'Harry', 'age': 11, 'house': 'Gryffindor'}\n",
        "\n",
        "#printing the dictionary\n",
        "print(my_dict)"
      ],
      "metadata": {
        "colab": {
          "base_uri": "https://localhost:8080/"
        },
        "id": "QqqkPR6gqFmk",
        "outputId": "5bd4787f-6fa2-4bde-9089-347794637c7d"
      },
      "execution_count": null,
      "outputs": [
        {
          "output_type": "stream",
          "name": "stdout",
          "text": [
            "{'name': 'Harry', 'age': 11, 'house': 'Gryffindor'}\n"
          ]
        }
      ]
    },
    {
      "cell_type": "code",
      "source": [
        "# ACCESSING VALUES\n",
        "\n",
        "# You can access the values in a dictionary using square brackets[] with the key.\n",
        "\n",
        "my_dict = {'name': 'Harry', 'age': 11, 'house': 'Gryffindor'}\n",
        "\n",
        "# Accessing the values in the dictionary\n",
        "\n",
        "name_value = my_dict['name']\n",
        "age_value = my_dict['age']\n",
        "house_value = my_dict['house']"
      ],
      "metadata": {
        "id": "Qy_-sygarXDw"
      },
      "execution_count": null,
      "outputs": []
    },
    {
      "cell_type": "code",
      "source": [
        "# CREATING LIST\n",
        "\n",
        "# You enclose the elements inside square brackets, separated by commas.\n",
        "\n",
        "empty_list = []\n",
        "numbers = [1, 2, 3, 4, 5]\n",
        "fruits = [\"apple\",\"banana\",\"cherry\"]\n",
        "mixed_list = [1, \"hello\", 3.14, True]"
      ],
      "metadata": {
        "id": "tLIZeZxfvQja"
      },
      "execution_count": null,
      "outputs": []
    },
    {
      "cell_type": "code",
      "source": [
        "# ADDING VALUES:\n",
        "#==> To add new key-value pairs or update existing ones in a dictionary, you can use square brackets[] and the assignment operator=.\n",
        "\n",
        "my_dict = {'name':'harry', 'age': 11, 'house': 'Gryffindor'}\n",
        "\n",
        "# adding a new key-value print to the dictionary\n",
        "\n",
        "my_dict['gender'] = 'Male'"
      ],
      "metadata": {
        "id": "BDVnS8HIwYqS"
      },
      "execution_count": null,
      "outputs": []
    },
    {
      "cell_type": "code",
      "source": [
        "# METHODDS:\n",
        "#==> Dictionaries have several useful methods,\n",
        "\n",
        "#=> keys()\n",
        "#=> values()\n",
        "#=> items()\n",
        "#=> get()\n",
        "#=> pop()\n",
        "#=> update()"
      ],
      "metadata": {
        "id": "YRepWN2Qz14J"
      },
      "execution_count": null,
      "outputs": []
    },
    {
      "cell_type": "code",
      "source": [
        "# Looping :\n",
        "#==> you can use loop to iterate through the keys or values of a dictionary\n",
        "my_dict = {'name':'harry', 'age': 11, 'house': 'Gryffindor'}\n",
        "for key in my_dict:\n",
        "  print(key)\n",
        "\n",
        "#loop through values\n",
        "for value in my_dict.values():\n",
        "  print(value)\n",
        "\n",
        "#loop through key-value pairs\n",
        "for key, value in my_dict.items():\n",
        "  print(key, value)"
      ],
      "metadata": {
        "colab": {
          "base_uri": "https://localhost:8080/"
        },
        "id": "DuiDRFmQk-1L",
        "outputId": "08e94d96-d0db-433d-d875-935c1de5323e"
      },
      "execution_count": null,
      "outputs": [
        {
          "output_type": "stream",
          "name": "stdout",
          "text": [
            "name\n",
            "age\n",
            "house\n",
            "harry\n",
            "11\n",
            "Gryffindor\n",
            "name harry\n",
            "age 11\n",
            "house Gryffindor\n"
          ]
        }
      ]
    },
    {
      "cell_type": "code",
      "source": [
        "# Comprehensions:\n",
        "#==> Similar to lists, dictionaries also support comprehensions for concise dictionary creation\n",
        "\n",
        "squares_dict = {x: x**2 for x in range(1, 6)}"
      ],
      "metadata": {
        "id": "Cz4UqVlMl3aY"
      },
      "execution_count": null,
      "outputs": []
    },
    {
      "cell_type": "code",
      "source": [
        "# Find the sum of all elements in a given list of numbers.\n",
        "\n",
        "# input : [10,20,30,40,50]\n",
        "# output : sum of elements = 150\n",
        "\n",
        "l = [10,20,30,40,50]\n",
        "sum = 0\n",
        "for i in l:\n",
        "  sum = sum + i\n",
        "print(sum)"
      ],
      "metadata": {
        "colab": {
          "base_uri": "https://localhost:8080/"
        },
        "id": "6T3sAiv2nR8i",
        "outputId": "872a5214-4d0f-42ea-f2ef-af6dadcd804c"
      },
      "execution_count": null,
      "outputs": [
        {
          "output_type": "stream",
          "name": "stdout",
          "text": [
            "150\n"
          ]
        }
      ]
    },
    {
      "cell_type": "code",
      "source": [
        "l = [10,20,30,40,50]\n",
        "sum = 0\n",
        "\n",
        "length = len(l)\n",
        "for i in range(0,length):\n",
        "\n",
        "print(sum)"
      ],
      "metadata": {
        "colab": {
          "base_uri": "https://localhost:8080/",
          "height": 106
        },
        "id": "cuBfQogUopHx",
        "outputId": "9a169978-2719-4ebb-e542-36a9f9c52ff9"
      },
      "execution_count": null,
      "outputs": [
        {
          "output_type": "error",
          "ename": "IndentationError",
          "evalue": "expected an indented block after 'for' statement on line 5 (<ipython-input-22-b97a6e645845>, line 7)",
          "traceback": [
            "\u001b[0;36m  File \u001b[0;32m\"<ipython-input-22-b97a6e645845>\"\u001b[0;36m, line \u001b[0;32m7\u001b[0m\n\u001b[0;31m    print(sum)\u001b[0m\n\u001b[0m    ^\u001b[0m\n\u001b[0;31mIndentationError\u001b[0m\u001b[0;31m:\u001b[0m expected an indented block after 'for' statement on line 5\n"
          ]
        }
      ]
    },
    {
      "cell_type": "code",
      "source": [
        "l = [10,20,30,40,50]\n",
        "sum = 0\n",
        "\n",
        "i = 0\n",
        "length = len(l)\n",
        "while i < length:\n",
        "  sum = sum + l[i]\n",
        "  i+=1\n",
        "print(sum)"
      ],
      "metadata": {
        "colab": {
          "base_uri": "https://localhost:8080/"
        },
        "id": "bqYxBziOptCn",
        "outputId": "34eddf60-d499-4899-fbd6-8d82e10831f3"
      },
      "execution_count": null,
      "outputs": [
        {
          "output_type": "stream",
          "name": "stdout",
          "text": [
            "150\n"
          ]
        }
      ]
    },
    {
      "cell_type": "code",
      "source": [
        "#Find the maximum and minimum values in a list of numbers.\n",
        "# input : 15,2,7,25,10\n",
        "# output : maximum = 25,\n",
        "#          minimum = 2\n",
        "\n",
        "l = [15, 2,6,25, 10]\n",
        "l.sort()\n",
        "\n",
        "print(l[-1],l[0])"
      ],
      "metadata": {
        "colab": {
          "base_uri": "https://localhost:8080/"
        },
        "id": "HmvzScQIq0IH",
        "outputId": "eeac7b60-04b5-40d1-d08f-c9aab1dc6eee"
      },
      "execution_count": null,
      "outputs": [
        {
          "output_type": "stream",
          "name": "stdout",
          "text": [
            "25 2\n"
          ]
        }
      ]
    },
    {
      "cell_type": "code",
      "source": [
        "# Remove duplicate elements from a list to creat a new list with unique element\n",
        "# input: [10,20,30,20,40,10,50]\n",
        "# output: [10,20,30,40,50]\n",
        "\n",
        "inp = input().split(',')\n",
        "\n",
        "l = [int(item) for item in inp]\n",
        "# remove duplicate and create a new list\n",
        "newL = []\n",
        "# itereate over all the elements\n",
        "\n",
        "for i in l:\n",
        "  if i in newL:\n",
        "    continue\n",
        "  else:\n",
        "    newL.append(i)\n",
        "print(newL)"
      ],
      "metadata": {
        "colab": {
          "base_uri": "https://localhost:8080/"
        },
        "id": "Ee0MvngDt0G5",
        "outputId": "9c4cc0fc-efce-474b-b6c4-b8b7be5c4982"
      },
      "execution_count": null,
      "outputs": [
        {
          "output_type": "stream",
          "name": "stdout",
          "text": [
            "10,20,30,20,40,10,50\n",
            "[10, 20, 30, 40, 50]\n"
          ]
        }
      ]
    },
    {
      "cell_type": "code",
      "source": [
        "inp = input().split(',')\n",
        "l = [int(a) for a in inp]\n",
        "s = set(l)\n",
        "mewL = list(s)\n",
        "print(newL)"
      ],
      "metadata": {
        "colab": {
          "base_uri": "https://localhost:8080/"
        },
        "id": "grHTVWNOvWhS",
        "outputId": "a97c0b3c-35fe-4343-8bde-24f6fb03f696"
      },
      "execution_count": null,
      "outputs": [
        {
          "output_type": "stream",
          "name": "stdout",
          "text": [
            "10,20,30,10,40,10,50\n",
            "[10, 20, 30, 40, 50]\n"
          ]
        }
      ]
    },
    {
      "cell_type": "code",
      "source": [
        "# Count the number of occurrnces of a specific element in a list.\n",
        "\n",
        "# lnput:[1,2,3,2,1,4,2,5]\n",
        "#       2\n",
        "# output: count\n",
        "l = [int(item) for itrm in input().split(\",\")]\n",
        "n = int(input())\n",
        "\n",
        "count = 0\n",
        "for i in l:\n",
        "  if i ==n:\n",
        "    count+=1\n",
        "print(count)"
      ],
      "metadata": {
        "colab": {
          "base_uri": "https://localhost:8080/",
          "height": 349
        },
        "id": "82x9ea1ZyZ0j",
        "outputId": "acaf47ea-2056-493a-a1ba-ac550a7256ae"
      },
      "execution_count": null,
      "outputs": [
        {
          "name": "stdout",
          "output_type": "stream",
          "text": [
            "1,2,3,2,1,4,2,5\n"
          ]
        },
        {
          "output_type": "error",
          "ename": "NameError",
          "evalue": "name 'item' is not defined",
          "traceback": [
            "\u001b[0;31m---------------------------------------------------------------------------\u001b[0m",
            "\u001b[0;31mNameError\u001b[0m                                 Traceback (most recent call last)",
            "\u001b[0;32m<ipython-input-4-6ed35de35c98>\u001b[0m in \u001b[0;36m<cell line: 6>\u001b[0;34m()\u001b[0m\n\u001b[1;32m      4\u001b[0m \u001b[0;31m#       2\u001b[0m\u001b[0;34m\u001b[0m\u001b[0;34m\u001b[0m\u001b[0m\n\u001b[1;32m      5\u001b[0m \u001b[0;31m# output: count\u001b[0m\u001b[0;34m\u001b[0m\u001b[0;34m\u001b[0m\u001b[0m\n\u001b[0;32m----> 6\u001b[0;31m \u001b[0ml\u001b[0m \u001b[0;34m=\u001b[0m \u001b[0;34m[\u001b[0m\u001b[0mint\u001b[0m\u001b[0;34m(\u001b[0m\u001b[0mitem\u001b[0m\u001b[0;34m)\u001b[0m \u001b[0;32mfor\u001b[0m \u001b[0mitrm\u001b[0m \u001b[0;32min\u001b[0m \u001b[0minput\u001b[0m\u001b[0;34m(\u001b[0m\u001b[0;34m)\u001b[0m\u001b[0;34m.\u001b[0m\u001b[0msplit\u001b[0m\u001b[0;34m(\u001b[0m\u001b[0;34m\",\"\u001b[0m\u001b[0;34m)\u001b[0m\u001b[0;34m]\u001b[0m\u001b[0;34m\u001b[0m\u001b[0;34m\u001b[0m\u001b[0m\n\u001b[0m\u001b[1;32m      7\u001b[0m \u001b[0mn\u001b[0m \u001b[0;34m=\u001b[0m \u001b[0mint\u001b[0m\u001b[0;34m(\u001b[0m\u001b[0minput\u001b[0m\u001b[0;34m(\u001b[0m\u001b[0;34m)\u001b[0m\u001b[0;34m)\u001b[0m\u001b[0;34m\u001b[0m\u001b[0;34m\u001b[0m\u001b[0m\n\u001b[1;32m      8\u001b[0m \u001b[0;34m\u001b[0m\u001b[0m\n",
            "\u001b[0;32m<ipython-input-4-6ed35de35c98>\u001b[0m in \u001b[0;36m<listcomp>\u001b[0;34m(.0)\u001b[0m\n\u001b[1;32m      4\u001b[0m \u001b[0;31m#       2\u001b[0m\u001b[0;34m\u001b[0m\u001b[0;34m\u001b[0m\u001b[0m\n\u001b[1;32m      5\u001b[0m \u001b[0;31m# output: count\u001b[0m\u001b[0;34m\u001b[0m\u001b[0;34m\u001b[0m\u001b[0m\n\u001b[0;32m----> 6\u001b[0;31m \u001b[0ml\u001b[0m \u001b[0;34m=\u001b[0m \u001b[0;34m[\u001b[0m\u001b[0mint\u001b[0m\u001b[0;34m(\u001b[0m\u001b[0mitem\u001b[0m\u001b[0;34m)\u001b[0m \u001b[0;32mfor\u001b[0m \u001b[0mitrm\u001b[0m \u001b[0;32min\u001b[0m \u001b[0minput\u001b[0m\u001b[0;34m(\u001b[0m\u001b[0;34m)\u001b[0m\u001b[0;34m.\u001b[0m\u001b[0msplit\u001b[0m\u001b[0;34m(\u001b[0m\u001b[0;34m\",\"\u001b[0m\u001b[0;34m)\u001b[0m\u001b[0;34m]\u001b[0m\u001b[0;34m\u001b[0m\u001b[0;34m\u001b[0m\u001b[0m\n\u001b[0m\u001b[1;32m      7\u001b[0m \u001b[0mn\u001b[0m \u001b[0;34m=\u001b[0m \u001b[0mint\u001b[0m\u001b[0;34m(\u001b[0m\u001b[0minput\u001b[0m\u001b[0;34m(\u001b[0m\u001b[0;34m)\u001b[0m\u001b[0;34m)\u001b[0m\u001b[0;34m\u001b[0m\u001b[0;34m\u001b[0m\u001b[0m\n\u001b[1;32m      8\u001b[0m \u001b[0;34m\u001b[0m\u001b[0m\n",
            "\u001b[0;31mNameError\u001b[0m: name 'item' is not defined"
          ]
        }
      ]
    },
    {
      "cell_type": "code",
      "source": [
        "# ACCESSING ELEMENTS:\n",
        "#==> You can access individual elements of a list using their index.\n",
        "#==> Indexing in python starts from O\n",
        "\n",
        "fruits = [\"apple\", \"banana\", \"cherry\"]\n",
        "print(fruits[0])      # output: apple\n",
        "print(fruits[1])      # output: banana\n",
        "\n",
        "#Python also supports negative indexing, where - 1 refers to the last element"
      ],
      "metadata": {
        "id": "0qlZ98py9ylu",
        "colab": {
          "base_uri": "https://localhost:8080/"
        },
        "outputId": "1a988cbf-30e6-4121-ba56-7fa2e663daf9"
      },
      "execution_count": null,
      "outputs": [
        {
          "output_type": "stream",
          "name": "stdout",
          "text": [
            "apple\n",
            "banana\n"
          ]
        }
      ]
    },
    {
      "cell_type": "code",
      "source": [
        "# Given two setrs,find their intersection (common elements ) and union (all unique elements combined).\n",
        "# input : setA:{1,2,3,4,5}\n",
        "#         setB:{4,5,6,7,8}\n",
        "\n",
        "#output: intersection:{4,5}\n",
        "#        union:m{1,2,3,4,5,6,7,8}\n",
        "\n",
        "set1={1,2,3,4,5}\n",
        "set2={4,5,6,7,8}\n",
        "\n",
        "uset = set1.union(set2)\n",
        "iset = set1.intersection(set2)\n",
        "\n",
        "print(uset,iset)"
      ],
      "metadata": {
        "colab": {
          "base_uri": "https://localhost:8080/"
        },
        "id": "3ijBkx-gY6st",
        "outputId": "efa684b1-20a5-4dd9-e349-7fc9909c3c86"
      },
      "execution_count": null,
      "outputs": [
        {
          "output_type": "stream",
          "name": "stdout",
          "text": [
            "{1, 2, 3, 4, 5, 6, 7, 8} {4, 5}\n"
          ]
        }
      ]
    },
    {
      "cell_type": "code",
      "source": [
        "# Creat dictonaries, access values, update values, and iterate through key-value pairs.\n",
        "# input:  my_dict = {'name':'John','age':30,'city':'New York'}\n",
        "# output: name:john\n",
        "#         age:31\n",
        "#         city: san francisco\n",
        "\n",
        "my_dict = {\n",
        "    'name':'John',\n",
        "    'age':30,\n",
        "    'city':'New York'\n",
        "    }\n",
        "for i,j in my_dict.items():\n",
        "  print(i,j)\n",
        "\n",
        "\n",
        "    # access value, update, iterate"
      ],
      "metadata": {
        "colab": {
          "base_uri": "https://localhost:8080/"
        },
        "id": "zU6dvolCb6XQ",
        "outputId": "871a17b0-0dd0-401e-b1cd-4916324dcf3a"
      },
      "execution_count": null,
      "outputs": [
        {
          "output_type": "stream",
          "name": "stdout",
          "text": [
            "name John\n",
            "age 30\n",
            "city New York\n"
          ]
        }
      ]
    },
    {
      "cell_type": "code",
      "source": [
        "my_dict = {}\n",
        "a = input(\"Give Name \")\n",
        "age = int(input(\"Give age \"))\n",
        "c = input(\"city: \")\n",
        "\n",
        "my_dict[\"name\"] = a\n",
        "my_dict[\"age\"] = age\n",
        "my_dict[\"city\"] = c\n",
        "\n",
        "print(my_dict)"
      ],
      "metadata": {
        "colab": {
          "base_uri": "https://localhost:8080/"
        },
        "id": "OED376jifZhn",
        "outputId": "ce560cda-7042-4b15-c669-787083e617b2"
      },
      "execution_count": null,
      "outputs": [
        {
          "output_type": "stream",
          "name": "stdout",
          "text": [
            "Give Name Ranjith\n",
            "Give age 25\n",
            "city: peddapalli\n",
            "{'name': 'Ranjith', 'age': 25, 'city': 'peddapalli'}\n"
          ]
        }
      ]
    },
    {
      "cell_type": "code",
      "source": [
        "# Slicing Lists\n",
        "#==> You can extract a portion of a list using slicing. Slicing allowsn you to create a new list which a subset of elementa.\n",
        "\n",
        "numbers = [1, 2, 3, 4, 5]\n",
        "print(numbers[1:4])"
      ],
      "metadata": {
        "colab": {
          "base_uri": "https://localhost:8080/"
        },
        "id": "YRBp5TnRgY6T",
        "outputId": "b4882480-6e08-4984-bcc2-3619a9e84e1f"
      },
      "execution_count": null,
      "outputs": [
        {
          "output_type": "stream",
          "name": "stdout",
          "text": [
            "[2, 3, 4]\n"
          ]
        }
      ]
    },
    {
      "cell_type": "code",
      "source": [
        "# Modifying Elements:\n",
        "#==> ypu can modify individualn elements in a list by accessing them using their index and then assigning a new value.\n",
        "\n",
        "fruits = [\"apple\", \"banana\", \"cherry\"]\n",
        "fruits[0] = \"orange\"\n",
        "print(fruits)"
      ],
      "metadata": {
        "colab": {
          "base_uri": "https://localhost:8080/"
        },
        "id": "C8CrAX_phX_0",
        "outputId": "013d687c-607f-4aac-ce87-9a5de9a95085"
      },
      "execution_count": null,
      "outputs": [
        {
          "output_type": "stream",
          "name": "stdout",
          "text": [
            "['orange', 'banana', 'cherry']\n"
          ]
        }
      ]
    },
    {
      "cell_type": "code",
      "source": [
        "# Methods\n",
        "\n",
        "#            append()     clear()\n",
        "#            Insert()     index()\n",
        "#            remove()     count()\n",
        "#               pop()     scor()\n",
        "#                  reverse()\n",
        "\n",
        "# append():   ==> Adds an elements to the end of the list.\n",
        "# insert():   ==> Inserts an element at a specific index remove(): Removes the first occurrence of a specified element.\n",
        "# pop():      ==> Removes and returns the element ar a specified index (or the last element if no index is given.)\n",
        "# index():    ==> Returns the index of the first occurrence of a specified element.\n",
        "# count():    ==> Return the number of occurrences of a specified element in the list\n",
        "# sort():     ==> Sorts the list in ascending order.\n",
        "# reverrse(): ==> reverse the order of the elements in the list."
      ],
      "metadata": {
        "id": "GBiSGUwTiSJh"
      },
      "execution_count": null,
      "outputs": []
    },
    {
      "cell_type": "code",
      "source": [
        "# List Concatenation:\n",
        "#==> Lists can be concatenated using the + operator, which creates a new list containing elements from both lists.\n",
        "\n",
        "list1 = [1, 2, 3]\n",
        "list2 = [4, 5, 6]\n",
        "combined_list = list1 + list2\n",
        "print(combined_list)"
      ],
      "metadata": {
        "colab": {
          "base_uri": "https://localhost:8080/"
        },
        "id": "eJ6H-KCjmawL",
        "outputId": "3a2d02b1-879b-479e-a065-b136d7b7b200"
      },
      "execution_count": null,
      "outputs": [
        {
          "output_type": "stream",
          "name": "stdout",
          "text": [
            "[1, 2, 3, 4, 5, 6]\n"
          ]
        }
      ]
    },
    {
      "cell_type": "code",
      "source": [
        "# List comprehensions:\n",
        "# ==> List comprehensions provide a concise way to create lists using a single line of code.\n",
        "\n",
        "# syntax:\n",
        "#==> new_list = [expression for item in iterable if condition]\n",
        "\n",
        "squares = [x**2 for x in range(1,6)]\n",
        "print(squares)"
      ],
      "metadata": {
        "colab": {
          "base_uri": "https://localhost:8080/"
        },
        "id": "xGBz7ZhWnIrd",
        "outputId": "9a74cf0c-64b6-4aa5-f970-3c4788e20f61"
      },
      "execution_count": null,
      "outputs": [
        {
          "output_type": "stream",
          "name": "stdout",
          "text": [
            "[1, 4, 9, 16, 25]\n"
          ]
        }
      ]
    },
    {
      "cell_type": "code",
      "source": [],
      "metadata": {
        "id": "AqA0f09bn_Y-"
      },
      "execution_count": null,
      "outputs": []
    }
  ],
  "metadata": {
    "colab": {
      "provenance": [],
      "authorship_tag": "ABX9TyOdo627b103I2+ck/10t0eK",
      "include_colab_link": true
    },
    "kernelspec": {
      "display_name": "Python 3",
      "name": "python3"
    },
    "language_info": {
      "name": "python"
    }
  },
  "nbformat": 4,
  "nbformat_minor": 0
}